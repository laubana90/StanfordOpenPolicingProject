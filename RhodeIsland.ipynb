{
 "cells": [
  {
   "cell_type": "markdown",
   "id": "raising-obligation",
   "metadata": {},
   "source": [
    "# Traffic stops at Rhode Island\n",
    "\n",
    "## Table of contents\n",
    "1. [Introduction](#introduction)\n",
    "2. [Data cleaning](#cleaning)\n",
    "    1. [Removing missing data](#missing)\n",
    "    2. [Using proper datatypes](#converting)\n",
    "3. [Exploratory data analysis (EDA)](#eda)\n",
    "\n",
    "\n",
    "\n",
    "## Introduction <a name=\"introduction\"></a>\n",
    "\n",
    "This project uses data from [\"The Stanford open policing project\"](https://openpolicing.stanford.edu/) to analyse traffic stops by police officers in the Rhode Island State of the United States. After cleaning the data, several questions are answered by analysing it and by using visualisation tools. In particular, we are interested in analysing the impact of gender and race on the police behaviour. \n",
    "\n",
    "In addition, we combine this dataset with weather information from the [\"National Centers for Environmental Information\"](https://www.ncei.noaa.gov/) in order to understand how the weather conditions impact the police behaviour.\n",
    "\n"
   ]
  },
  {
   "cell_type": "code",
   "execution_count": 1,
   "id": "spoken-carnival",
   "metadata": {},
   "outputs": [],
   "source": [
    "import pandas as pd\n",
    "\n",
    "# Read input data and create a dataframe\n",
    "input_file = 'data/ri_statewide_2020_04_01.csv'\n",
    "\n",
    "ri = pd.read_csv(input_file, low_memory=False) #low_memory=False turns down a warning about some columns having mixed datatypes. This will be fixed later.\n",
    "\n"
   ]
  },
  {
   "cell_type": "markdown",
   "id": "stunning-quest",
   "metadata": {},
   "source": [
    "## Data cleaning <a name=\"cleaning\"></a>\n",
    "\n",
    "The first objective is to get the data ready to be analysed. We start by dropping columns with a large fraction of missing data as well as columns that have only 1 unique value. Rows with a significant fraction of missing data will be dropped as well. The acceptable thresholds for missing data will be decided after inspecting the dataset. \n",
    "\n",
    "Next, we look at the datatypes to check wether there is any column that would be more appropriate to be stored with a different dataype. For example, it is common that some of the columns that should be booleans or integers are stored as strings. This makes it easier to process the data in later steps. "
   ]
  },
  {
   "cell_type": "markdown",
   "id": "incorporated-manor",
   "metadata": {},
   "source": [
    "### Removing missing data <a name=\"missing\"></a>"
   ]
  },
  {
   "cell_type": "code",
   "execution_count": 2,
   "id": "manual-retirement",
   "metadata": {},
   "outputs": [
    {
     "name": "stdout",
     "output_type": "stream",
     "text": [
      "(509681, 31)\n"
     ]
    }
   ],
   "source": [
    "# Number of rows and columns\n",
    "print(ri.shape)"
   ]
  },
  {
   "cell_type": "code",
   "execution_count": 3,
   "id": "boxed-liverpool",
   "metadata": {},
   "outputs": [
    {
     "name": "stdout",
     "output_type": "stream",
     "text": [
      "raw_row_number            0.000000\n",
      "date                      0.001962\n",
      "time                      0.001962\n",
      "zone                      0.001962\n",
      "subject_race              5.704156\n",
      "subject_sex               5.708865\n",
      "department_id             0.001962\n",
      "type                      0.000000\n",
      "arrest_made               5.704156\n",
      "citation_issued           5.704156\n",
      "warning_issued            5.704156\n",
      "outcome                   7.032046\n",
      "contraband_found         96.515075\n",
      "contraband_drugs         96.863136\n",
      "contraband_weapons       97.685807\n",
      "contraband_alcohol       99.761223\n",
      "contraband_other         96.515075\n",
      "frisk_performed           0.001962\n",
      "search_conducted          0.000000\n",
      "search_basis             96.515075\n",
      "reason_for_search        96.515075\n",
      "reason_for_stop           5.704156\n",
      "vehicle_make             37.585078\n",
      "vehicle_model            54.856469\n",
      "raw_BasisForStop          5.704156\n",
      "raw_OperatorRace          5.704156\n",
      "raw_OperatorSex           5.704156\n",
      "raw_ResultOfStop          5.704156\n",
      "raw_SearchResultOne      96.515075\n",
      "raw_SearchResultTwo      99.839311\n",
      "raw_SearchResultThree    99.967038\n",
      "dtype: float64\n"
     ]
    }
   ],
   "source": [
    "# % of missing data in each column\n",
    "print(100*ri.isnull().sum()/len(ri.index))"
   ]
  },
  {
   "cell_type": "markdown",
   "id": "designing-oasis",
   "metadata": {},
   "source": [
    "Often, a DataFrame will contain columns that are not useful to your analysis. Such columns should be dropped from the DataFrame, to make it easier for you to focus on the remaining columns.\n",
    "\n",
    "We will drop columns with more than 90% of missing data as well as columns that have only 1 unique value."
   ]
  },
  {
   "cell_type": "code",
   "execution_count": 4,
   "id": "inclusive-miller",
   "metadata": {},
   "outputs": [
    {
     "name": "stdout",
     "output_type": "stream",
     "text": [
      "Dropping:  ['contraband_found', 'contraband_drugs', 'contraband_weapons', 'contraband_alcohol', 'contraband_other', 'search_basis', 'reason_for_search', 'raw_SearchResultOne', 'raw_SearchResultTwo', 'raw_SearchResultThree']\n"
     ]
    }
   ],
   "source": [
    "missing_data = 100*ri.isnull().sum()/len(ri.index)\n",
    "missing_90 = [index for index, value in missing_data.items() if value > 90 ]\n",
    "print(\"Dropping: \", missing_90)\n",
    "ri.drop(missing_90, axis='columns', inplace=True)"
   ]
  },
  {
   "cell_type": "code",
   "execution_count": 5,
   "id": "retired-cameroon",
   "metadata": {},
   "outputs": [
    {
     "name": "stdout",
     "output_type": "stream",
     "text": [
      "(509681, 21)\n"
     ]
    }
   ],
   "source": [
    "print(ri.shape)"
   ]
  },
  {
   "cell_type": "code",
   "execution_count": 6,
   "id": "confident-lightning",
   "metadata": {},
   "outputs": [
    {
     "name": "stdout",
     "output_type": "stream",
     "text": [
      "raw_row_number      False\n",
      "date                False\n",
      "time                False\n",
      "zone                False\n",
      "subject_race        False\n",
      "subject_sex         False\n",
      "department_id       False\n",
      "type                 True\n",
      "arrest_made         False\n",
      "citation_issued     False\n",
      "warning_issued      False\n",
      "outcome             False\n",
      "frisk_performed     False\n",
      "search_conducted    False\n",
      "reason_for_stop     False\n",
      "vehicle_make        False\n",
      "vehicle_model       False\n",
      "raw_BasisForStop    False\n",
      "raw_OperatorRace    False\n",
      "raw_OperatorSex     False\n",
      "raw_ResultOfStop    False\n",
      "dtype: bool\n"
     ]
    }
   ],
   "source": [
    "# Find % of unique values\n",
    "unique_data = ri.nunique()\n",
    "print(unique_data==1)"
   ]
  },
  {
   "cell_type": "code",
   "execution_count": 7,
   "id": "altered-prospect",
   "metadata": {},
   "outputs": [
    {
     "name": "stdout",
     "output_type": "stream",
     "text": [
      "0         vehicular\n",
      "1         vehicular\n",
      "2         vehicular\n",
      "3         vehicular\n",
      "4         vehicular\n",
      "            ...    \n",
      "509676    vehicular\n",
      "509677    vehicular\n",
      "509678    vehicular\n",
      "509679    vehicular\n",
      "509680    vehicular\n",
      "Name: type, Length: 509681, dtype: object\n"
     ]
    }
   ],
   "source": [
    "print(ri['type'])"
   ]
  },
  {
   "cell_type": "markdown",
   "id": "colonial-fundamental",
   "metadata": {},
   "source": [
    "The 'type' column has one unique value 'vehicular'. This doesn't add any new information, so we drop that column too."
   ]
  },
  {
   "cell_type": "code",
   "execution_count": 8,
   "id": "impressive-complement",
   "metadata": {},
   "outputs": [],
   "source": [
    "ri.drop(['type'], axis='columns', inplace=True)"
   ]
  },
  {
   "cell_type": "code",
   "execution_count": 9,
   "id": "pleased-sunglasses",
   "metadata": {},
   "outputs": [
    {
     "name": "stdout",
     "output_type": "stream",
     "text": [
      "(509681, 20)\n"
     ]
    }
   ],
   "source": [
    "print(ri.shape)"
   ]
  },
  {
   "cell_type": "markdown",
   "id": "technical-designation",
   "metadata": {},
   "source": [
    "Our current dataframe contains 20 columns. Let's also remove rows for which more than 10 columns are NaN."
   ]
  },
  {
   "cell_type": "code",
   "execution_count": 10,
   "id": "chief-tokyo",
   "metadata": {},
   "outputs": [
    {
     "name": "stdout",
     "output_type": "stream",
     "text": [
      "29073\n"
     ]
    }
   ],
   "source": [
    "missing_columns = ri.isnull().sum(axis=1)\n",
    "missing_10 = [index for index, value in missing_columns.items() if value > 10]\n",
    "print(len(missing_10))\n",
    "ri.drop(index=missing_10, inplace=True)"
   ]
  },
  {
   "cell_type": "markdown",
   "id": "stable-hunger",
   "metadata": {},
   "source": [
    "### Using proper data types <a name=\"converting\"></a>"
   ]
  },
  {
   "cell_type": "code",
   "execution_count": 11,
   "id": "standing-graphic",
   "metadata": {},
   "outputs": [
    {
     "data": {
      "text/plain": [
       "raw_row_number       int64\n",
       "date                object\n",
       "time                object\n",
       "zone                object\n",
       "subject_race        object\n",
       "subject_sex         object\n",
       "department_id       object\n",
       "arrest_made         object\n",
       "citation_issued     object\n",
       "warning_issued      object\n",
       "outcome             object\n",
       "frisk_performed     object\n",
       "search_conducted      bool\n",
       "reason_for_stop     object\n",
       "vehicle_make        object\n",
       "vehicle_model       object\n",
       "raw_BasisForStop    object\n",
       "raw_OperatorRace    object\n",
       "raw_OperatorSex     object\n",
       "raw_ResultOfStop    object\n",
       "dtype: object"
      ]
     },
     "execution_count": 11,
     "metadata": {},
     "output_type": "execute_result"
    }
   ],
   "source": [
    "# Look at the current datatypes\n",
    "ri.dtypes"
   ]
  },
  {
   "cell_type": "markdown",
   "id": "marine-privilege",
   "metadata": {},
   "source": [
    "Most of the columns have an <code>object</code> datatype, which means they are stored as string. Let's have a look at what type of values they contain to check wether another datatype would be more suitable."
   ]
  },
  {
   "cell_type": "code",
   "execution_count": 12,
   "id": "synthetic-medline",
   "metadata": {},
   "outputs": [
    {
     "name": "stdout",
     "output_type": "stream",
     "text": [
      "raw_row_number int64\n",
      "\t [     1      2      3 ... 509678 509679 509680]\n",
      "date object\n",
      "\t ['2005-11-22' '2005-10-01' '2005-09-11' ... '2015-12-06' '2015-12-24'\n",
      " '2015-12-25']\n",
      "time object\n",
      "\t ['11:15:00' '12:20:00' '12:30:00' ... '05:39:00' '04:58:00' '05:23:00']\n",
      "zone object\n",
      "\t ['X3' 'X4' 'K3' 'K2' 'K1' 'X1']\n",
      "subject_race object\n",
      "\t ['white' 'hispanic' 'black' 'other' 'asian/pacific islander']\n",
      "subject_sex object\n",
      "\t ['male' 'female' nan]\n",
      "department_id object\n",
      "\t ['200' '500' '300' '900' '600' '000' '202' '502' '203' '003' '004' '009'\n",
      " '001' '002' '006' '505' '409' '402' '204' '205' '405' '506' '403' '411'\n",
      " '303' 'MA' '406' '415' '301' '501' '503' '20' '410' 'OUT' '201' '408'\n",
      " 'K2' '304' '305' '508' '120' '413' '102' '407' '412' '416' '30' '509']\n",
      "arrest_made object\n",
      "\t [False True]\n",
      "citation_issued object\n",
      "\t [True False]\n",
      "warning_issued object\n",
      "\t [False True]\n",
      "outcome object\n",
      "\t ['citation' nan 'arrest' 'warning']\n",
      "frisk_performed object\n",
      "\t [False True]\n",
      "search_conducted bool\n",
      "\t [False  True]\n",
      "reason_for_stop object\n",
      "\t ['Speeding' 'Other Traffic Violation' 'Equipment/Inspection Violation'\n",
      " 'Motorist Assist/Courtesy' 'Registration Violation' 'Call for Service'\n",
      " 'Violation of City/Town Ordinance' 'Special Detail/Directed Patrol' 'APB'\n",
      " 'Warrant' 'Suspicious Person' 'Seatbelt Violation']\n",
      "vehicle_make object\n",
      "\t [nan 'TOYT' 'LINC' 'AUDI' 'PONT' 'FORD' 'ISU' 'SAA' 'NISS' 'GMC' 'HYUN'\n",
      " 'JEEP' 'MAZD' 'JAGU' 'CHEV' 'VOLK' 'ACUR' 'HOND' 'VOLV' 'BMW' 'STRN'\n",
      " 'DODG' 'MITS' 'BUIC' 'PLYM' 'OLDS' 'KIA' 'MERC' 'CHRY' 'GEO' 'INFI'\n",
      " 'SUZI' 'SUBA' 'LEXU' 'SAT' 'CADI' 'OTHR' 'FREI' 'MERZ' 'LEXS' 'DAEW'\n",
      " 'YAMA' 'LNDR' 'EGIL' 'LAND' 'KENW' 'MACK' 'EAGL' 'SATU' 'INTL' 'CHEC'\n",
      " 'TRIU' 'AMGN' 'HD' 'ISUZ' 'AMER' 'PORS' 'FRHT' 'COOP' 'KW' 'STLG' 'PTRB'\n",
      " 'TOYO' 'VNTC' 'LOTU' 'MG' 'KAWK' 'MASE' 'DATS' 'FERR' 'UK' 'ALFA' 'WHIT'\n",
      " 'ROL' 'FRUE' 'TRIM' 'BENT' 'RENA' 'EC' 'SHEB' 'INTE' 'FIAT' 'OPEL' 'STU'\n",
      " 'CP' '4T' 'VN' '4D' 'PC' 'PEUG' 'C300' 'SE' 'RAMB' 'AVTI' 'SU' 'MERK'\n",
      " 'MB']\n",
      "vehicle_model object\n",
      "\t [nan 'HIGHLA' 'TOWN CAR' ... 'SRT10' 'TL COUPE' 'OTS']\n",
      "raw_BasisForStop object\n",
      "\t ['SP' 'OT' 'EQ' 'MO' 'RV' 'CS' 'VO' 'SD' 'AP' 'WA' 'SU' 'SB']\n",
      "raw_OperatorRace object\n",
      "\t ['W' 'H' 'B' 'O' 'I' 'N' 'L']\n",
      "raw_OperatorSex object\n",
      "\t ['M' 'F' 'N' 'U']\n",
      "raw_ResultOfStop object\n",
      "\t ['M' 'N' 'D' 'P' 'W' 'A']\n"
     ]
    }
   ],
   "source": [
    "for col in ri:\n",
    "    print(col, ri[col].dtype)\n",
    "    print(\"\\t\",ri[col].unique())"
   ]
  },
  {
   "cell_type": "markdown",
   "id": "relative-champion",
   "metadata": {},
   "source": [
    "By inspecting the unique types of each column it seems reasonable that the following columns, which have an object type (which usually means a string) should be changed to:\n",
    "\n",
    "* date: object -> datetime\n",
    "* time: object -> datetime\n",
    "* zone: object -> categorical (6 different values)\n",
    "* subject_race: object -> categorical (5 different values)\n",
    "* subject_sex: object -> categorical/boolean\n",
    "* arrest_made: object -> boolean\n",
    "* citation_issued: object -> boolean\n",
    "* warning_issued: object -> boolean\n",
    "* outcome: object -> categorical (3 different values)\n",
    "* frisk_performed: object -> boolean\n",
    "* reason_for_stop: object -> categorical (12 different values)\n",
    "* raw_OperatorRace: object -> categorical (7 different values)\n",
    "* raw_OperatorSex: object -> categorical (4 different values)\n",
    "* raw_ResultOfStop: object -> categorical (6 different values)\n"
   ]
  },
  {
   "cell_type": "code",
   "execution_count": 13,
   "id": "portuguese-romania",
   "metadata": {},
   "outputs": [],
   "source": [
    "# Objetc to bool:\n",
    "object_to_bool = ['arrest_made','citation_issued','warning_issued','frisk_performed']\n",
    "ri[object_to_bool] = ri[object_to_bool].astype(bool)"
   ]
  },
  {
   "cell_type": "code",
   "execution_count": 14,
   "id": "material-filename",
   "metadata": {},
   "outputs": [],
   "source": [
    "# date and time to datetime. Make it also the index!\n",
    "combined = ri['date'].str.cat(ri['time'], sep=' ')\n",
    "ri['datetime'] = pd.to_datetime(combined)\n",
    "ri.set_index('datetime', inplace=True)\n",
    "ri.drop(['time'], axis='columns', inplace=True)\n",
    "# We don't drop the date column since it will be useful later when we merge it with the weather dataset."
   ]
  },
  {
   "cell_type": "code",
   "execution_count": 15,
   "id": "residential-cholesterol",
   "metadata": {},
   "outputs": [],
   "source": [
    "# Object to category\n",
    "object_to_category = ['zone','subject_race','subject_sex','outcome','reason_for_stop','raw_OperatorRace','raw_OperatorSex','raw_ResultOfStop']\n",
    "ri[object_to_category] = ri[object_to_category].astype(\"category\")\n"
   ]
  },
  {
   "cell_type": "code",
   "execution_count": 16,
   "id": "tender-lesbian",
   "metadata": {},
   "outputs": [
    {
     "name": "stdout",
     "output_type": "stream",
     "text": [
      "raw_row_number         int64\n",
      "date                  object\n",
      "zone                category\n",
      "subject_race        category\n",
      "subject_sex         category\n",
      "department_id         object\n",
      "arrest_made             bool\n",
      "citation_issued         bool\n",
      "warning_issued          bool\n",
      "outcome             category\n",
      "frisk_performed         bool\n",
      "search_conducted        bool\n",
      "reason_for_stop     category\n",
      "vehicle_make          object\n",
      "vehicle_model         object\n",
      "raw_BasisForStop      object\n",
      "raw_OperatorRace    category\n",
      "raw_OperatorSex     category\n",
      "raw_ResultOfStop    category\n",
      "dtype: object\n"
     ]
    }
   ],
   "source": [
    "# Check the new datatype\n",
    "print(ri.dtypes)"
   ]
  },
  {
   "cell_type": "markdown",
   "id": "christian-spray",
   "metadata": {},
   "source": [
    "# Exploratory data analysis (EDA) <a name=\"eda\"></a>"
   ]
  },
  {
   "cell_type": "code",
   "execution_count": 17,
   "id": "documented-movie",
   "metadata": {},
   "outputs": [
    {
     "name": "stdout",
     "output_type": "stream",
     "text": [
      "date\n",
      "2006-05-21    0.000612\n",
      "2015-09-05    0.000608\n",
      "2005-11-05    0.000589\n",
      "2012-01-08    0.000578\n",
      "2012-01-07    0.000572\n",
      "                ...   \n",
      "2005-08-09    0.000002\n",
      "2005-04-04    0.000002\n",
      "2005-01-23    0.000002\n",
      "2005-09-16    0.000002\n",
      "2005-09-15    0.000002\n",
      "Name: date, Length: 3803, dtype: float64\n",
      "zone\n",
      "X4    0.261488\n",
      "K3    0.226536\n",
      "K2    0.202414\n",
      "X3    0.186091\n",
      "K1    0.095956\n",
      "X1    0.027515\n",
      "Name: zone, dtype: float64\n",
      "subject_race\n",
      "white                     0.717287\n",
      "black                     0.142692\n",
      "hispanic                  0.110537\n",
      "asian/pacific islander    0.026687\n",
      "other                     0.002796\n",
      "Name: subject_race, dtype: float64\n",
      "subject_sex\n",
      "male      0.727128\n",
      "female    0.272872\n",
      "Name: subject_sex, dtype: float64\n",
      "department_id\n",
      "500    0.268608\n",
      "300    0.229384\n",
      "900    0.197487\n",
      "200    0.174494\n",
      "600    0.089668\n",
      "000    0.031221\n",
      "304    0.002283\n",
      "203    0.001920\n",
      "408    0.001696\n",
      "202    0.001352\n",
      "502    0.000556\n",
      "201    0.000185\n",
      "402    0.000183\n",
      "204    0.000171\n",
      "405    0.000110\n",
      "305    0.000089\n",
      "409    0.000085\n",
      "009    0.000069\n",
      "205    0.000065\n",
      "406    0.000035\n",
      "411    0.000035\n",
      "415    0.000031\n",
      "505    0.000031\n",
      "301    0.000027\n",
      "003    0.000027\n",
      "001    0.000023\n",
      "506    0.000021\n",
      "403    0.000019\n",
      "503    0.000017\n",
      "412    0.000015\n",
      "508    0.000012\n",
      "416    0.000010\n",
      "102    0.000010\n",
      "410    0.000008\n",
      "413    0.000008\n",
      "004    0.000006\n",
      "509    0.000006\n",
      "407    0.000004\n",
      "002    0.000004\n",
      "30     0.000004\n",
      "303    0.000004\n",
      "006    0.000002\n",
      "20     0.000002\n",
      "MA     0.000002\n",
      "501    0.000002\n",
      "120    0.000002\n",
      "OUT    0.000002\n",
      "K2     0.000002\n",
      "Name: department_id, dtype: float64\n",
      "arrest_made\n",
      "False    0.965454\n",
      "True     0.034546\n",
      "Name: arrest_made, dtype: float64\n",
      "citation_issued\n",
      "True     0.891346\n",
      "False    0.108654\n",
      "Name: citation_issued, dtype: float64\n",
      "warning_issued\n",
      "False    0.939974\n",
      "True     0.060026\n",
      "Name: warning_issued, dtype: float64\n",
      "outcome\n",
      "citation    0.904077\n",
      "warning     0.060883\n",
      "arrest      0.035039\n",
      "Name: outcome, dtype: float64\n",
      "frisk_performed\n",
      "False    0.980604\n",
      "True     0.019396\n",
      "Name: frisk_performed, dtype: float64\n",
      "search_conducted\n",
      "False    0.963043\n",
      "True     0.036957\n",
      "Name: search_conducted, dtype: float64\n",
      "reason_for_stop\n",
      "Speeding                            0.559175\n",
      "Other Traffic Violation             0.187750\n",
      "Equipment/Inspection Violation      0.127447\n",
      "Registration Violation              0.041260\n",
      "Seatbelt Violation                  0.033972\n",
      "Special Detail/Directed Patrol      0.028385\n",
      "Call for Service                    0.015832\n",
      "Violation of City/Town Ordinance    0.002156\n",
      "Motorist Assist/Courtesy            0.002060\n",
      "APB                                 0.001009\n",
      "Suspicious Person                   0.000712\n",
      "Warrant                             0.000243\n",
      "Name: reason_for_stop, dtype: float64\n",
      "vehicle_make\n",
      "TOYT    0.116451\n",
      "NISS    0.101436\n",
      "HOND    0.101376\n",
      "FORD    0.089782\n",
      "CHEV    0.065275\n",
      "          ...   \n",
      "STU     0.000003\n",
      "EAGL    0.000003\n",
      "TRIM    0.000003\n",
      "C300    0.000003\n",
      "MERK    0.000003\n",
      "Name: vehicle_make, Length: 96, dtype: float64\n",
      "vehicle_model\n",
      "ACCORD                 0.050288\n",
      "MAXIMA                 0.047093\n",
      "CAMRY                  0.042108\n",
      "ALTIMA                 0.033444\n",
      "CIVIC                  0.032758\n",
      "                         ...   \n",
      "FLD120/MOVING TRUCK    0.000004\n",
      "625CI                  0.000004\n",
      "S400                   0.000004\n",
      "T BIRD                 0.000004\n",
      "300 STATIONWAGON       0.000004\n",
      "Name: vehicle_model, Length: 9183, dtype: float64\n",
      "raw_BasisForStop\n",
      "SP    0.559175\n",
      "OT    0.187750\n",
      "EQ    0.127447\n",
      "RV    0.041260\n",
      "SB    0.033972\n",
      "SD    0.028385\n",
      "CS    0.015832\n",
      "VO    0.002156\n",
      "MO    0.002060\n",
      "AP    0.001009\n",
      "SU    0.000712\n",
      "WA    0.000243\n",
      "Name: raw_BasisForStop, dtype: float64\n",
      "raw_OperatorRace\n",
      "W    0.717287\n",
      "B    0.142692\n",
      "H    0.091651\n",
      "I    0.026687\n",
      "L    0.018886\n",
      "O    0.001694\n",
      "N    0.001103\n",
      "Name: raw_OperatorRace, dtype: float64\n",
      "raw_OperatorSex\n",
      "M    0.727092\n",
      "F    0.272859\n",
      "U    0.000048\n",
      "N    0.000002\n",
      "Name: raw_OperatorSex, dtype: float64\n",
      "raw_ResultOfStop\n",
      "M    0.891346\n",
      "W    0.060026\n",
      "D    0.030441\n",
      "N    0.007139\n",
      "A    0.006943\n",
      "P    0.004105\n",
      "Name: raw_ResultOfStop, dtype: float64\n"
     ]
    }
   ],
   "source": [
    "for col in ri.columns:\n",
    "    if col == 'raw_row_number': continue\n",
    "    print(col)\n",
    "    print(ri[col].value_counts(normalize=True))"
   ]
  },
  {
   "cell_type": "markdown",
   "id": "laden-control",
   "metadata": {},
   "source": [
    "## One dimensional studies"
   ]
  },
  {
   "cell_type": "code",
   "execution_count": null,
   "id": "painted-brother",
   "metadata": {},
   "outputs": [],
   "source": []
  },
  {
   "cell_type": "markdown",
   "id": "valued-acting",
   "metadata": {},
   "source": [
    "## Comparing reason for stop by gender"
   ]
  },
  {
   "cell_type": "code",
   "execution_count": 18,
   "id": "destroyed-therapy",
   "metadata": {},
   "outputs": [
    {
     "name": "stdout",
     "output_type": "stream",
     "text": [
      "Speeding                            0.657308\n",
      "Other Traffic Violation             0.136581\n",
      "Equipment/Inspection Violation      0.107055\n",
      "Registration Violation              0.043077\n",
      "Seatbelt Violation                  0.027071\n",
      "Call for Service                    0.018057\n",
      "Special Detail/Directed Patrol      0.005071\n",
      "Motorist Assist/Courtesy            0.002532\n",
      "Violation of City/Town Ordinance    0.001647\n",
      "APB                                 0.000831\n",
      "Suspicious Person                   0.000564\n",
      "Warrant                             0.000206\n",
      "Name: reason_for_stop, dtype: float64\n",
      "Speeding                            0.522364\n",
      "Other Traffic Violation             0.206948\n",
      "Equipment/Inspection Violation      0.135102\n",
      "Registration Violation              0.040581\n",
      "Special Detail/Directed Patrol      0.037136\n",
      "Seatbelt Violation                  0.036555\n",
      "Call for Service                    0.014987\n",
      "Violation of City/Town Ordinance    0.002347\n",
      "Motorist Assist/Courtesy            0.001880\n",
      "APB                                 0.001076\n",
      "Suspicious Person                   0.000767\n",
      "Warrant                             0.000258\n",
      "Name: reason_for_stop, dtype: float64\n"
     ]
    }
   ],
   "source": [
    "# Create a DataFrame of female drivers\n",
    "female = ri[ri['subject_sex']=='female']\n",
    "\n",
    "# Create a DataFrame of male drivers\n",
    "male = ri[ri['subject_sex']=='male']\n",
    "\n",
    "# Compute the arrests by female drivers (as proportions)\n",
    "print(female['reason_for_stop'].value_counts(normalize=True))\n",
    "\n",
    "# Compute the arrests by male drivers (as proportions)\n",
    "print(male['reason_for_stop'].value_counts(normalize=True))"
   ]
  },
  {
   "cell_type": "markdown",
   "id": "acquired-description",
   "metadata": {},
   "source": [
    "## Comparing speeding outcomes by gender"
   ]
  },
  {
   "cell_type": "code",
   "execution_count": 19,
   "id": "genuine-scoop",
   "metadata": {},
   "outputs": [
    {
     "name": "stdout",
     "output_type": "stream",
     "text": [
      "citation    0.954609\n",
      "warning     0.039059\n",
      "arrest      0.006332\n",
      "Name: outcome, dtype: float64\n",
      "citation    0.946763\n",
      "warning     0.036167\n",
      "arrest      0.017070\n",
      "Name: outcome, dtype: float64\n"
     ]
    }
   ],
   "source": [
    "# Create a DataFrame of female drivers stopped for speeding\n",
    "female_and_speeding = ri[(ri['subject_sex']=='female') & (ri['reason_for_stop']=='Speeding')]\n",
    "\n",
    "# Create a DataFrame of male drivers stopped for speeding\n",
    "male_and_speeding = ri[(ri['subject_sex']=='male') & (ri['reason_for_stop']=='Speeding')]\n",
    "\n",
    "# Compute the stop outcomes for female drivers (as proportions)\n",
    "print(female_and_speeding['outcome'].value_counts(normalize=True))\n",
    "\n",
    "# Compute the stop outcomes for male drivers (as proportions)\n",
    "print(male_and_speeding['outcome'].value_counts(normalize=True))"
   ]
  },
  {
   "cell_type": "markdown",
   "id": "literary-humor",
   "metadata": {},
   "source": [
    "## Calculate the search rate"
   ]
  },
  {
   "cell_type": "code",
   "execution_count": 20,
   "id": "little-depth",
   "metadata": {},
   "outputs": [
    {
     "name": "stdout",
     "output_type": "stream",
     "text": [
      "bool\n",
      "False    0.963043\n",
      "True     0.036957\n",
      "Name: search_conducted, dtype: float64\n",
      "0.03695735401824356\n"
     ]
    }
   ],
   "source": [
    "# Check the data type of 'search_conducted'\n",
    "print(ri.search_conducted.dtype)\n",
    "\n",
    "# Calculate the search rate by counting the values\n",
    "print(ri.search_conducted.value_counts(normalize=True))\n",
    "\n",
    "# Calculate the search rate by taking the mean\n",
    "print(ri.search_conducted.mean())"
   ]
  },
  {
   "cell_type": "code",
   "execution_count": 21,
   "id": "least-burning",
   "metadata": {},
   "outputs": [
    {
     "name": "stdout",
     "output_type": "stream",
     "text": [
      "0.018751239152648355\n",
      "0.04379217389811301\n",
      "subject_sex\n",
      "female    0.018751\n",
      "male      0.043792\n",
      "Name: search_conducted, dtype: float64\n"
     ]
    }
   ],
   "source": [
    "# Calculate the search rate for female drivers\n",
    "print(ri[ri['subject_sex']=='female'].search_conducted.mean())\n",
    "\n",
    "# Calculate the search rate for male drivers\n",
    "print(ri[ri['subject_sex']=='male'].search_conducted.mean())\n",
    "\n",
    "# Calculate the search rate for both groups simultaneously\n",
    "print(ri.groupby('subject_sex').search_conducted.mean())"
   ]
  },
  {
   "cell_type": "markdown",
   "id": "powerful-advancement",
   "metadata": {},
   "source": [
    "## Adding a second factor to the analysis"
   ]
  },
  {
   "cell_type": "code",
   "execution_count": 22,
   "id": "detailed-personal",
   "metadata": {},
   "outputs": [
    {
     "name": "stdout",
     "output_type": "stream",
     "text": [
      "reason_for_stop                   subject_sex\n",
      "APB                               female         0.165138\n",
      "                                  male           0.255319\n",
      "Call for Service                  female         0.042230\n",
      "                                  male           0.092419\n",
      "Equipment/Inspection Violation    female         0.040245\n",
      "                                  male           0.070916\n",
      "Motorist Assist/Courtesy          female         0.033133\n",
      "                                  male           0.089802\n",
      "Other Traffic Violation           female         0.038021\n",
      "                                  male           0.059156\n",
      "Registration Violation            female         0.054700\n",
      "                                  male           0.103589\n",
      "Seatbelt Violation                female         0.017746\n",
      "                                  male           0.031705\n",
      "Special Detail/Directed Patrol    female         0.018045\n",
      "                                  male           0.010249\n",
      "Speeding                          female         0.007738\n",
      "                                  male           0.026630\n",
      "Suspicious Person                 female         0.216216\n",
      "                                  male           0.305970\n",
      "Violation of City/Town Ordinance  female         0.060185\n",
      "                                  male           0.073171\n",
      "Warrant                           female         0.148148\n",
      "                                  male           0.311111\n",
      "Name: search_conducted, dtype: float64\n"
     ]
    }
   ],
   "source": [
    "# Calculate the search rate for each combination of gender and violation\n",
    "print(ri.groupby(['reason_for_stop','subject_sex']).search_conducted.mean())"
   ]
  },
  {
   "cell_type": "code",
   "execution_count": 23,
   "id": "posted-recorder",
   "metadata": {},
   "outputs": [
    {
     "data": {
      "image/png": "[encoded data removed]",
      "text/plain": [
       "<Figure size 432x288 with 1 Axes>"
      ]
     },
     "metadata": {
      "needs_background": "light"
     },
     "output_type": "display_data"
    }
   ],
   "source": [
    "#TO DO\n",
    "import matplotlib.pyplot as plt\n",
    "import seaborn as sns\n",
    "\n",
    "sns.countplot(x='search_conducted', data=ri)\n",
    "plt.show()"
   ]
  },
  {
   "cell_type": "markdown",
   "id": "compliant-suicide",
   "metadata": {},
   "source": [
    "## Arrest per daytime"
   ]
  },
  {
   "cell_type": "code",
   "execution_count": 24,
   "id": "moral-burning",
   "metadata": {},
   "outputs": [
    {
     "name": "stdout",
     "output_type": "stream",
     "text": [
      "Index(['raw_row_number', 'date', 'zone', 'subject_race', 'subject_sex',\n",
      "       'department_id', 'arrest_made', 'citation_issued', 'warning_issued',\n",
      "       'outcome', 'frisk_performed', 'search_conducted', 'reason_for_stop',\n",
      "       'vehicle_make', 'vehicle_model', 'raw_BasisForStop', 'raw_OperatorRace',\n",
      "       'raw_OperatorSex', 'raw_ResultOfStop'],\n",
      "      dtype='object')\n",
      "0.034545825287968575\n",
      "datetime\n",
      "0     0.052142\n",
      "1     0.067121\n",
      "2     0.061063\n",
      "3     0.052604\n",
      "4     0.053897\n",
      "5     0.032657\n",
      "6     0.012948\n",
      "7     0.013829\n",
      "8     0.019714\n",
      "9     0.024698\n",
      "10    0.025582\n",
      "11    0.027078\n",
      "12    0.031359\n",
      "13    0.030248\n",
      "14    0.031529\n",
      "15    0.032124\n",
      "16    0.033519\n",
      "17    0.038989\n",
      "18    0.039898\n",
      "19    0.031366\n",
      "20    0.039292\n",
      "21    0.059956\n",
      "22    0.043980\n",
      "23    0.045084\n",
      "Name: arrest_made, dtype: float64\n"
     ]
    }
   ],
   "source": [
    "print(ri.columns)\n",
    "\n",
    "# Calculate the overall arrest rate\n",
    "print(ri['arrest_made'].mean())\n",
    "\n",
    "# Calculate the hourly arrest rate\n",
    "print(ri.groupby(ri.index.hour)['arrest_made'].mean())\n",
    "\n",
    "# Save the hourly arrest rate\n",
    "hourly_arrest_rate = ri.groupby(ri.index.hour)['arrest_made'].mean()"
   ]
  },
  {
   "cell_type": "code",
   "execution_count": 25,
   "id": "alien-burst",
   "metadata": {},
   "outputs": [
    {
     "data": {
      "image/png": "[encoded data removed]",
      "text/plain": [
       "<Figure size 432x288 with 1 Axes>"
      ]
     },
     "metadata": {
      "needs_background": "light"
     },
     "output_type": "display_data"
    }
   ],
   "source": [
    "# Import matplotlib.pyplot as plt\n",
    "import matplotlib.pyplot as plt\n",
    "\n",
    "# Create a line plot of 'hourly_arrest_rate'\n",
    "hourly_arrest_rate.plot()\n",
    "\n",
    "# Add the xlabel, ylabel, and title\n",
    "plt.xlabel('Hour')\n",
    "plt.ylabel('Arrest Rate')\n",
    "plt.title('Arrest Rate by Time of Day')\n",
    "\n",
    "# Display the plot\n",
    "plt.show()"
   ]
  },
  {
   "cell_type": "markdown",
   "id": "decreased-imperial",
   "metadata": {},
   "source": [
    "## Are searches on the rise?"
   ]
  },
  {
   "cell_type": "code",
   "execution_count": 26,
   "id": "adapted-range",
   "metadata": {},
   "outputs": [
    {
     "name": "stdout",
     "output_type": "stream",
     "text": [
      "datetime\n",
      "2005-12-31    0.050688\n",
      "2006-12-31    0.037747\n",
      "2007-12-31    0.041844\n",
      "2008-12-31    0.039542\n",
      "2009-12-31    0.049848\n",
      "2010-12-31    0.042086\n",
      "2011-12-31    0.037762\n",
      "2012-12-31    0.032277\n",
      "2013-12-31    0.029054\n",
      "2014-12-31    0.030155\n",
      "2015-12-31    0.027828\n",
      "Freq: A-DEC, Name: search_conducted, dtype: float64\n"
     ]
    },
    {
     "data": {
      "image/png": "[encoded data removed]",
      "text/plain": [
       "<Figure size 432x288 with 1 Axes>"
      ]
     },
     "metadata": {
      "needs_background": "light"
     },
     "output_type": "display_data"
    }
   ],
   "source": [
    "# Calculate the annual rate of performed searches\n",
    "print(ri['search_conducted'].resample('A').mean())\n",
    "\n",
    "# Save the annual rate of performed searches\n",
    "annual_search_rate = ri['search_conducted'].resample('A').mean()\n",
    "\n",
    "# Create a line plot of 'annual_drug_rate'\n",
    "annual_search_rate.plot()\n",
    "\n",
    "# Display the plot\n",
    "plt.show()"
   ]
  },
  {
   "cell_type": "markdown",
   "id": "cleared-snake",
   "metadata": {},
   "source": [
    "## Does the search rate decrease translate into a arrest decrease as well?"
   ]
  },
  {
   "cell_type": "code",
   "execution_count": 27,
   "id": "purple-graduation",
   "metadata": {},
   "outputs": [
    {
     "data": {
      "image/png": "[encoded data removed]",
      "text/plain": [
       "<Figure size 432x288 with 2 Axes>"
      ]
     },
     "metadata": {
      "needs_background": "light"
     },
     "output_type": "display_data"
    }
   ],
   "source": [
    "# Calculate and save the annual arrest rate\n",
    "annual_arrest_rate = ri['arrest_made'].resample('A').mean()\n",
    "\n",
    "# Concatenate 'annual_search_rate' and 'annual_arrest_rate'\n",
    "annual = pd.concat([annual_search_rate,annual_arrest_rate], axis='columns')\n",
    "\n",
    "# Create subplots from 'annual'\n",
    "annual.plot(subplots=True)\n",
    "\n",
    "# Display the subplots\n",
    "plt.show()"
   ]
  },
  {
   "cell_type": "markdown",
   "id": "alone-quilt",
   "metadata": {},
   "source": [
    "## What violations are caught in each district?"
   ]
  },
  {
   "cell_type": "code",
   "execution_count": 28,
   "id": "through-swaziland",
   "metadata": {},
   "outputs": [
    {
     "name": "stdout",
     "output_type": "stream",
     "text": [
      "reason_for_stop  APB  Call for Service  Equipment/Inspection Violation  \\\n",
      "zone                                                                     \n",
      "K1                32               282                            3788   \n",
      "K2               101              1036                           11285   \n",
      "K3               144              1230                           12959   \n",
      "X1                 6               198                            1725   \n",
      "X3                64              1328                           11520   \n",
      "X4               138              3535                           19975   \n",
      "\n",
      "reason_for_stop  Motorist Assist/Courtesy  Other Traffic Violation  \\\n",
      "zone                                                                 \n",
      "K1                                     78                     7130   \n",
      "K2                                    118                    16440   \n",
      "K3                                    258                    16218   \n",
      "X1                                     33                     3711   \n",
      "X3                                    324                    17179   \n",
      "X4                                    179                    29556   \n",
      "\n",
      "reason_for_stop  Registration Violation  Seatbelt Violation  \\\n",
      "zone                                                          \n",
      "K1                                  628                   1   \n",
      "K2                                 4056                2898   \n",
      "K3                                 3871                3660   \n",
      "X1                                  192                 451   \n",
      "X3                                 3532                4446   \n",
      "X4                                 7551                4871   \n",
      "\n",
      "reason_for_stop  Special Detail/Directed Patrol  Speeding  Suspicious Person  \\\n",
      "zone                                                                           \n",
      "K1                                         1009     33068                 72   \n",
      "K2                                         3539     57500                 59   \n",
      "K3                                         2011     68238                 68   \n",
      "X1                                          503      6393                  5   \n",
      "X3                                         1996     48690                 41   \n",
      "X4                                         4584     54855                 97   \n",
      "\n",
      "reason_for_stop  Violation of City/Town Ordinance  Warrant  \n",
      "zone                                                        \n",
      "K1                                             21        8  \n",
      "K2                                            237       13  \n",
      "K3                                            194       24  \n",
      "X1                                              6        1  \n",
      "X3                                            282       35  \n",
      "X4                                            296       36  \n",
      "reason_for_stop  APB  Call for Service  Equipment/Inspection Violation  \\\n",
      "zone                                                                     \n",
      "K1                32               282                            3788   \n",
      "K2               101              1036                           11285   \n",
      "K3               144              1230                           12959   \n",
      "\n",
      "reason_for_stop  Motorist Assist/Courtesy  Other Traffic Violation  \\\n",
      "zone                                                                 \n",
      "K1                                     78                     7130   \n",
      "K2                                    118                    16440   \n",
      "K3                                    258                    16218   \n",
      "\n",
      "reason_for_stop  Registration Violation  Seatbelt Violation  \\\n",
      "zone                                                          \n",
      "K1                                  628                   1   \n",
      "K2                                 4056                2898   \n",
      "K3                                 3871                3660   \n",
      "\n",
      "reason_for_stop  Special Detail/Directed Patrol  Speeding  Suspicious Person  \\\n",
      "zone                                                                           \n",
      "K1                                         1009     33068                 72   \n",
      "K2                                         3539     57500                 59   \n",
      "K3                                         2011     68238                 68   \n",
      "\n",
      "reason_for_stop  Violation of City/Town Ordinance  Warrant  \n",
      "zone                                                        \n",
      "K1                                             21        8  \n",
      "K2                                            237       13  \n",
      "K3                                            194       24  \n"
     ]
    }
   ],
   "source": [
    "# Create a frequency table of districts and violations\n",
    "print(pd.crosstab(ri['zone'], ri['reason_for_stop']))\n",
    "\n",
    "# Save the frequency table as 'all_zones'\n",
    "all_zones = pd.crosstab(ri['zone'], ri['reason_for_stop'])\n",
    "\n",
    "# Select rows 'Zone K1' through 'Zone K3'\n",
    "print(all_zones.loc['K1':'K3'])\n",
    "\n",
    "# Save the smaller table as 'k_zones'\n",
    "k_zones = all_zones.loc['K1':'K3']"
   ]
  },
  {
   "cell_type": "code",
   "execution_count": 29,
   "id": "parallel-miller",
   "metadata": {},
   "outputs": [
    {
     "data": {
      "image/png": "[encoded data removed]",
      "text/plain": [
       "<Figure size 432x288 with 1 Axes>"
      ]
     },
     "metadata": {
      "needs_background": "light"
     },
     "output_type": "display_data"
    }
   ],
   "source": [
    "# Create a bar plot of 'all_zones'\n",
    "all_zones.plot(kind='bar')\n",
    "\n",
    "# Display the plot\n",
    "plt.show()"
   ]
  },
  {
   "cell_type": "code",
   "execution_count": 30,
   "id": "mature-arcade",
   "metadata": {},
   "outputs": [
    {
     "data": {
      "image/png": "[encoded data removed]",
      "text/plain": [
       "<Figure size 432x288 with 1 Axes>"
      ]
     },
     "metadata": {
      "needs_background": "light"
     },
     "output_type": "display_data"
    }
   ],
   "source": [
    "# Create a stacked bar plot of 'all_zones'\n",
    "all_zones.plot(kind='bar', stacked=True)\n",
    "\n",
    "# Display the plot\n",
    "plt.show()"
   ]
  },
  {
   "cell_type": "markdown",
   "id": "available-chance",
   "metadata": {},
   "source": [
    "# Adding weather data\n",
    "\n",
    "We now use weather daata from a different dataset to understand if weather conditions affect the police stops. For that, we use weather data from the National Center for Environmental Information collected at the Rhode Island weather station, USW00014765 (https://www.ncei.noaa.gov/) and (https://www1.ncdc.noaa.gov/pub/data/ghcn/daily/by_station/)."
   ]
  },
  {
   "cell_type": "code",
   "execution_count": 31,
   "id": "distant-medication",
   "metadata": {},
   "outputs": [
    {
     "name": "stdout",
     "output_type": "stream",
     "text": [
      "       date metric  value\n",
      "0  19420801   TAVG    240\n",
      "1  19420802   TAVG    222\n",
      "2  19420803   TAVG    247\n",
      "3  19420804   TAVG    207\n",
      "4  19420805   TAVG    188\n"
     ]
    }
   ],
   "source": [
    "weather_file = 'data/USW00014765.csv'\n",
    "\n",
    "wd = pd.read_csv(weather_file, usecols=[1,2,3], names=['date', 'metric','value'])\n",
    "\n",
    "print(wd.head())"
   ]
  },
  {
   "cell_type": "code",
   "execution_count": 32,
   "id": "sublime-ethnic",
   "metadata": {},
   "outputs": [],
   "source": [
    "weather=wd.pivot(index='date', columns='metric', values='value')\n",
    "\n",
    "# Convert index to datetime format and make it the index\n",
    "#weather['date'] = pd.to_datetime(weather.index)"
   ]
  },
  {
   "cell_type": "code",
   "execution_count": 33,
   "id": "beautiful-present",
   "metadata": {},
   "outputs": [],
   "source": [
    "ws = weather.loc[20050101:20181231]"
   ]
  },
  {
   "cell_type": "code",
   "execution_count": 34,
   "id": "announced-bulletin",
   "metadata": {},
   "outputs": [
    {
     "name": "stderr",
     "output_type": "stream",
     "text": [
      "/Users/laubana/Library/Python/3.8/lib/python/site-packages/pandas/core/frame.py:3191: SettingWithCopyWarning: \n",
      "A value is trying to be set on a copy of a slice from a DataFrame.\n",
      "Try using .loc[row_indexer,col_indexer] = value instead\n",
      "\n",
      "See the caveats in the documentation: https://pandas.pydata.org/pandas-docs/stable/user_guide/indexing.html#returning-a-view-versus-a-copy\n",
      "  self[k1] = value[k2]\n"
     ]
    }
   ],
   "source": [
    "def convert_tenths_to_celsius(tf):\n",
    "    tf = tf/10.0\n",
    "    return tf\n",
    "\n",
    "ws[['TMIN','TAVG','TMAX']] = ws[['TMIN','TAVG','TMAX']].apply(convert_tenths_to_celsius)"
   ]
  },
  {
   "cell_type": "code",
   "execution_count": 35,
   "id": "characteristic-disposal",
   "metadata": {},
   "outputs": [
    {
     "name": "stdout",
     "output_type": "stream",
     "text": [
      "metric         TMIN         TAVG         TMAX\n",
      "count   5113.000000  2313.000000  5113.000000\n",
      "mean       6.480325    11.528534    16.359476\n",
      "std        9.447401     9.731215    10.121332\n",
      "min      -22.700000   -17.600000   -11.000000\n",
      "25%       -1.000000     3.900000     8.300000\n",
      "50%        6.700000    11.900000    16.700000\n",
      "75%       14.400000    20.100000    25.000000\n",
      "max       25.000000    29.900000    38.900000\n"
     ]
    },
    {
     "data": {
      "image/png": "[encoded data removed]",
      "text/plain": [
       "<Figure size 432x288 with 1 Axes>"
      ]
     },
     "metadata": {
      "needs_background": "light"
     },
     "output_type": "display_data"
    }
   ],
   "source": [
    "# Inspect the temperature columns \n",
    "# Describe the temperature columns\n",
    "print(ws[['TMIN','TAVG','TMAX']].describe())\n",
    "\n",
    "# Create a box plot of the temperature columns\n",
    "ws[['TMIN','TAVG','TMAX']].plot(kind='box')\n",
    "\n",
    "# Display the plot\n",
    "plt.show()"
   ]
  },
  {
   "cell_type": "code",
   "execution_count": 36,
   "id": "indie-mattress",
   "metadata": {},
   "outputs": [
    {
     "name": "stderr",
     "output_type": "stream",
     "text": [
      "<ipython-input-36-d9341482935e>:2: SettingWithCopyWarning: \n",
      "A value is trying to be set on a copy of a slice from a DataFrame.\n",
      "Try using .loc[row_indexer,col_indexer] = value instead\n",
      "\n",
      "See the caveats in the documentation: https://pandas.pydata.org/pandas-docs/stable/user_guide/indexing.html#returning-a-view-versus-a-copy\n",
      "  ws['TDIFF'] = ws['TMAX']-ws['TMIN']\n"
     ]
    },
    {
     "name": "stdout",
     "output_type": "stream",
     "text": [
      "count    5113.000000\n",
      "mean        9.879151\n",
      "std         3.509849\n",
      "min         1.100000\n",
      "25%         7.700000\n",
      "50%        10.000000\n",
      "75%        12.200000\n",
      "max        23.900000\n",
      "Name: TDIFF, dtype: float64\n"
     ]
    },
    {
     "data": {
      "image/png": "[encoded data removed]",
      "text/plain": [
       "<Figure size 432x288 with 1 Axes>"
      ]
     },
     "metadata": {
      "needs_background": "light"
     },
     "output_type": "display_data"
    }
   ],
   "source": [
    "# Create a 'TDIFF' column that represents temperature difference\n",
    "ws['TDIFF'] = ws['TMAX']-ws['TMIN']\n",
    "\n",
    "# Describe the 'TDIFF' column\n",
    "print(ws['TDIFF'].describe())\n",
    "\n",
    "# Create a histogram with 20 bins to visualize 'TDIFF'\n",
    "ws['TDIFF'].plot(kind='hist', bins=20)\n",
    "\n",
    "# Display the plot\n",
    "plt.show()"
   ]
  },
  {
   "cell_type": "code",
   "execution_count": 37,
   "id": "brown-novel",
   "metadata": {},
   "outputs": [
    {
     "name": "stdout",
     "output_type": "stream",
     "text": [
      "[ 1. nan]\n"
     ]
    }
   ],
   "source": [
    "print(ws['WT01'].unique())"
   ]
  },
  {
   "cell_type": "markdown",
   "id": "seeing-anthony",
   "metadata": {},
   "source": [
    "### Counting bad weather conditions\n",
    "\n",
    "The weather DataFrame contains 20 columns that start with 'WT', each of which represents a bad weather condition. For example:\n",
    "\n",
    "* WT05 indicates \"Hail\"\n",
    "* WT11 indicates \"High or damaging winds\"\n",
    "* WT17 indicates \"Freezing rain\"\n",
    "For every row in the dataset, each WT column contains either a 1 (meaning the condition was present that day) or NaN (meaning the condition was not present).\n",
    "\n",
    "In this exercise, you'll quantify \"how bad\" the weather was each day by counting the number of 1 values in each row."
   ]
  },
  {
   "cell_type": "code",
   "execution_count": 38,
   "id": "liberal-friday",
   "metadata": {},
   "outputs": [
    {
     "name": "stderr",
     "output_type": "stream",
     "text": [
      "<ipython-input-38-58b8434bbc4f>:5: SettingWithCopyWarning: \n",
      "A value is trying to be set on a copy of a slice from a DataFrame.\n",
      "Try using .loc[row_indexer,col_indexer] = value instead\n",
      "\n",
      "See the caveats in the documentation: https://pandas.pydata.org/pandas-docs/stable/user_guide/indexing.html#returning-a-view-versus-a-copy\n",
      "  ws['bad_conditions'] = WT.sum(axis='columns')\n",
      "<ipython-input-38-58b8434bbc4f>:8: SettingWithCopyWarning: \n",
      "A value is trying to be set on a copy of a slice from a DataFrame.\n",
      "Try using .loc[row_indexer,col_indexer] = value instead\n",
      "\n",
      "See the caveats in the documentation: https://pandas.pydata.org/pandas-docs/stable/user_guide/indexing.html#returning-a-view-versus-a-copy\n",
      "  ws['bad_conditions'] = ws.bad_conditions.fillna(0).astype('int')\n"
     ]
    },
    {
     "data": {
      "image/png": "[encoded data removed]",
      "text/plain": [
       "<Figure size 432x288 with 1 Axes>"
      ]
     },
     "metadata": {
      "needs_background": "light"
     },
     "output_type": "display_data"
    }
   ],
   "source": [
    "# Copy 'WT01' through 'WT22' to a new DataFrame\n",
    "WT = ws.loc[:,'WT01':'WT22']\n",
    "\n",
    "# Calculate the sum of each row in 'WT'\n",
    "ws['bad_conditions'] = WT.sum(axis='columns')\n",
    "\n",
    "# Replace missing values in 'bad_conditions' with '0'\n",
    "ws['bad_conditions'] = ws.bad_conditions.fillna(0).astype('int')\n",
    "\n",
    "# Create a histogram to visualize 'bad_conditions'\n",
    "ws['bad_conditions'].plot(kind='hist')\n",
    "\n",
    "# Display the plot\n",
    "plt.show()"
   ]
  },
  {
   "cell_type": "markdown",
   "id": "monetary-programming",
   "metadata": {},
   "source": [
    "### Rating the weather conditions\n",
    "In the previous exercise, you counted the number of bad weather conditions each day. In this exercise, you'll use the counts to create a rating system for the weather.\n",
    "\n",
    "The counts range from 0 to 9, and should be converted to ratings as follows:\n",
    "\n",
    "* Convert 0 to 'good'\n",
    "* Convert 1 through 4 to 'bad'\n",
    "* Convert 5 through 9 to 'worse'"
   ]
  },
  {
   "cell_type": "code",
   "execution_count": 39,
   "id": "temporal-knock",
   "metadata": {},
   "outputs": [
    {
     "name": "stdout",
     "output_type": "stream",
     "text": [
      "0    2356\n",
      "1     965\n",
      "2     477\n",
      "3     403\n",
      "4     478\n",
      "5     283\n",
      "6     102\n",
      "7      41\n",
      "8       4\n",
      "9       4\n",
      "Name: bad_conditions, dtype: int64\n",
      "good     2356\n",
      "bad      2323\n",
      "worse     434\n",
      "Name: rating, dtype: int64\n"
     ]
    },
    {
     "name": "stderr",
     "output_type": "stream",
     "text": [
      "<ipython-input-39-e63b5b4697b4>:8: SettingWithCopyWarning: \n",
      "A value is trying to be set on a copy of a slice from a DataFrame.\n",
      "Try using .loc[row_indexer,col_indexer] = value instead\n",
      "\n",
      "See the caveats in the documentation: https://pandas.pydata.org/pandas-docs/stable/user_guide/indexing.html#returning-a-view-versus-a-copy\n",
      "  ws['rating'] = ws.bad_conditions.map(mapping)\n"
     ]
    }
   ],
   "source": [
    "# Count the unique values in 'bad_conditions' and sort the index\n",
    "print(ws.bad_conditions.value_counts().sort_index())\n",
    "\n",
    "# Create a dictionary that maps integers to strings\n",
    "mapping = {0:'good', 1:'bad', 2:'bad', 3:'bad',4:'bad',5:'worse',6:'worse',7:'worse',8:'worse',9:'worse'}\n",
    "\n",
    "# Convert the 'bad_conditions' integers to strings using the 'mapping'\n",
    "ws['rating'] = ws.bad_conditions.map(mapping)\n",
    "\n",
    "# Count the unique values in 'rating'\n",
    "print(ws['rating'].value_counts())"
   ]
  },
  {
   "cell_type": "code",
   "execution_count": 40,
   "id": "agricultural-active",
   "metadata": {},
   "outputs": [
    {
     "name": "stdout",
     "output_type": "stream",
     "text": [
      "date\n",
      "20050101    bad\n",
      "20050102    bad\n",
      "20050103    bad\n",
      "20050104    bad\n",
      "20050105    bad\n",
      "Name: rating, dtype: object\n"
     ]
    }
   ],
   "source": [
    "# Create a list of weather ratings in logical order\n",
    "cats = ['good','bad','worse']\n",
    "\n",
    "# Change the data type of 'rating' to category\n",
    "cat_type = pd.Categorical(ws['rating'], categories=cats, ordered=True)\n",
    "\n",
    "# Examine the head of 'rating'\n",
    "print(ws['rating'].head())"
   ]
  },
  {
   "cell_type": "markdown",
   "id": "deadly-detective",
   "metadata": {},
   "source": [
    "## Preparing the two dataframes to be merged"
   ]
  },
  {
   "cell_type": "code",
   "execution_count": 41,
   "id": "brave-writer",
   "metadata": {},
   "outputs": [
    {
     "name": "stdout",
     "output_type": "stream",
     "text": [
      "             datetime  raw_row_number        date zone subject_race  \\\n",
      "0 2005-11-22 11:15:00               1  2005-11-22   X3        white   \n",
      "1 2005-10-01 12:20:00               2  2005-10-01   X3        white   \n",
      "2 2005-10-01 12:30:00               3  2005-10-01   X3        white   \n",
      "3 2005-10-01 12:50:00               4  2005-10-01   X3        white   \n",
      "4 2005-10-01 13:10:00               5  2005-10-01   X3        white   \n",
      "\n",
      "  subject_sex department_id  arrest_made  citation_issued  warning_issued  \\\n",
      "0        male           200        False             True           False   \n",
      "1        male           200        False             True           False   \n",
      "2      female           200        False             True           False   \n",
      "3        male           200        False             True           False   \n",
      "4      female           200        False             True           False   \n",
      "\n",
      "    outcome  frisk_performed  search_conducted reason_for_stop vehicle_make  \\\n",
      "0  citation            False             False        Speeding          NaN   \n",
      "1  citation            False             False        Speeding          NaN   \n",
      "2  citation            False             False        Speeding          NaN   \n",
      "3  citation            False             False        Speeding          NaN   \n",
      "4  citation            False             False        Speeding          NaN   \n",
      "\n",
      "  vehicle_model raw_BasisForStop raw_OperatorRace raw_OperatorSex  \\\n",
      "0           NaN               SP                W               M   \n",
      "1           NaN               SP                W               M   \n",
      "2           NaN               SP                W               F   \n",
      "3           NaN               SP                W               M   \n",
      "4           NaN               SP                W               F   \n",
      "\n",
      "  raw_ResultOfStop  \n",
      "0                M  \n",
      "1                M  \n",
      "2                M  \n",
      "3                M  \n",
      "4                M  \n",
      "metric      date rating\n",
      "0       20050101    bad\n",
      "1       20050102    bad\n",
      "2       20050103    bad\n",
      "3       20050104    bad\n",
      "4       20050105    bad\n"
     ]
    }
   ],
   "source": [
    "# Reset the index of 'ri' and 'ws'\n",
    "ri.reset_index(inplace=True)\n",
    "ws.reset_index(inplace=True)\n",
    "\n",
    "# Examine the head of 'ri'\n",
    "print(ri.head())\n",
    "\n",
    "# Create a DataFrame from the 'DATE' and 'rating' columns\n",
    "weather_rating = ws[['date','rating']]\n",
    "\n",
    "# Examine the head of 'weather_rating'\n",
    "print(weather_rating.head())"
   ]
  },
  {
   "cell_type": "code",
   "execution_count": 42,
   "id": "suitable-myanmar",
   "metadata": {},
   "outputs": [
    {
     "name": "stderr",
     "output_type": "stream",
     "text": [
      "<ipython-input-42-32c9f041977d>:2: SettingWithCopyWarning: \n",
      "A value is trying to be set on a copy of a slice from a DataFrame.\n",
      "Try using .loc[row_indexer,col_indexer] = value instead\n",
      "\n",
      "See the caveats in the documentation: https://pandas.pydata.org/pandas-docs/stable/user_guide/indexing.html#returning-a-view-versus-a-copy\n",
      "  weather_rating['date'] = pd.to_datetime(weather_rating['date'], format='%Y%m%d', errors='ignore')\n"
     ]
    }
   ],
   "source": [
    "ri['date'] = pd.to_datetime(ri['date'])\n",
    "weather_rating['date'] = pd.to_datetime(weather_rating['date'], format='%Y%m%d', errors='ignore')"
   ]
  },
  {
   "cell_type": "code",
   "execution_count": 43,
   "id": "touched-introduction",
   "metadata": {},
   "outputs": [
    {
     "name": "stdout",
     "output_type": "stream",
     "text": [
      "0      2005-01-01\n",
      "1      2005-01-02\n",
      "2      2005-01-03\n",
      "3      2005-01-04\n",
      "4      2005-01-05\n",
      "          ...    \n",
      "5108   2018-12-27\n",
      "5109   2018-12-28\n",
      "5110   2018-12-29\n",
      "5111   2018-12-30\n",
      "5112   2018-12-31\n",
      "Name: date, Length: 5113, dtype: datetime64[ns]\n"
     ]
    }
   ],
   "source": [
    "print(weather_rating.date)"
   ]
  },
  {
   "cell_type": "code",
   "execution_count": 44,
   "id": "resident-constant",
   "metadata": {},
   "outputs": [
    {
     "name": "stdout",
     "output_type": "stream",
     "text": [
      "(480608, 20)\n",
      "(480608, 21)\n"
     ]
    }
   ],
   "source": [
    "# Examine the shape of 'ri'\n",
    "print(ri.shape)\n",
    "\n",
    "# Merge 'ri' and 'weather_rating' using a left join\n",
    "ri_weather = pd.merge(left=ri, right=weather_rating, on='date', how='left')\n",
    "\n",
    "# Examine the shape of 'ri_weather'\n",
    "print(ri_weather.shape)\n",
    "\n",
    "# Set 'stop_datetime' as the index of 'ri_weather'\n",
    "ri_weather.set_index('date', inplace=True)"
   ]
  },
  {
   "cell_type": "code",
   "execution_count": 45,
   "id": "completed-indonesian",
   "metadata": {},
   "outputs": [
    {
     "name": "stdout",
     "output_type": "stream",
     "text": [
      "                      datetime  raw_row_number zone subject_race subject_sex  \\\n",
      "date                                                                           \n",
      "2005-11-22 2005-11-22 11:15:00               1   X3        white        male   \n",
      "2005-10-01 2005-10-01 12:20:00               2   X3        white        male   \n",
      "2005-10-01 2005-10-01 12:30:00               3   X3        white      female   \n",
      "2005-10-01 2005-10-01 12:50:00               4   X3        white        male   \n",
      "2005-10-01 2005-10-01 13:10:00               5   X3        white      female   \n",
      "\n",
      "           department_id  arrest_made  citation_issued  warning_issued  \\\n",
      "date                                                                     \n",
      "2005-11-22           200        False             True           False   \n",
      "2005-10-01           200        False             True           False   \n",
      "2005-10-01           200        False             True           False   \n",
      "2005-10-01           200        False             True           False   \n",
      "2005-10-01           200        False             True           False   \n",
      "\n",
      "             outcome  frisk_performed  search_conducted reason_for_stop  \\\n",
      "date                                                                      \n",
      "2005-11-22  citation            False             False        Speeding   \n",
      "2005-10-01  citation            False             False        Speeding   \n",
      "2005-10-01  citation            False             False        Speeding   \n",
      "2005-10-01  citation            False             False        Speeding   \n",
      "2005-10-01  citation            False             False        Speeding   \n",
      "\n",
      "           vehicle_make vehicle_model raw_BasisForStop raw_OperatorRace  \\\n",
      "date                                                                      \n",
      "2005-11-22          NaN           NaN               SP                W   \n",
      "2005-10-01          NaN           NaN               SP                W   \n",
      "2005-10-01          NaN           NaN               SP                W   \n",
      "2005-10-01          NaN           NaN               SP                W   \n",
      "2005-10-01          NaN           NaN               SP                W   \n",
      "\n",
      "           raw_OperatorSex raw_ResultOfStop rating  \n",
      "date                                                \n",
      "2005-11-22               M                M    bad  \n",
      "2005-10-01               M                M   good  \n",
      "2005-10-01               F                M   good  \n",
      "2005-10-01               M                M   good  \n",
      "2005-10-01               F                M   good  \n"
     ]
    }
   ],
   "source": [
    "print(ri_weather.head())"
   ]
  },
  {
   "cell_type": "markdown",
   "id": "charitable-savings",
   "metadata": {},
   "source": [
    "## Comparing arrest rates by weather rating\n",
    "Do police officers arrest drivers more often when the weather is bad? Find out below!\n",
    "\n",
    "* First, you'll calculate the overall arrest rate.\n",
    "* Then, you'll calculate the arrest rate for each of the weather ratings you previously assigned.\n",
    "* Finally, you'll add violation type as a second factor in the analysis, to see if that accounts for any differences in the arrest rate.\n",
    "Since you previously defined a logical order for the weather categories, good < bad < worse, they will be sorted that way in the results."
   ]
  },
  {
   "cell_type": "code",
   "execution_count": 46,
   "id": "plain-algeria",
   "metadata": {},
   "outputs": [
    {
     "name": "stdout",
     "output_type": "stream",
     "text": [
      "0.034545825287968575\n",
      "rating\n",
      "bad      0.035198\n",
      "good     0.033002\n",
      "worse    0.039357\n",
      "Name: arrest_made, dtype: float64\n",
      "reason_for_stop                   rating\n",
      "APB                               bad       0.284314\n",
      "                                  good      0.239496\n",
      "                                  worse     0.372093\n",
      "Call for Service                  bad       0.187269\n",
      "                                  good      0.175385\n",
      "                                  worse     0.177381\n",
      "Equipment/Inspection Violation    bad       0.059704\n",
      "                                  good      0.056480\n",
      "                                  worse     0.094373\n",
      "Motorist Assist/Courtesy          bad       0.103371\n",
      "                                  good      0.116009\n",
      "                                  worse     0.070175\n",
      "Other Traffic Violation           bad       0.057973\n",
      "                                  good      0.055618\n",
      "                                  worse     0.062233\n",
      "Registration Violation            bad       0.092749\n",
      "                                  good      0.076831\n",
      "                                  worse     0.098673\n",
      "Seatbelt Violation                bad       0.028840\n",
      "                                  good      0.025498\n",
      "                                  worse     0.000000\n",
      "Special Detail/Directed Patrol    bad       0.009619\n",
      "                                  good      0.009456\n",
      "                                  worse     0.004739\n",
      "Speeding                          bad       0.013368\n",
      "                                  good      0.013213\n",
      "                                  worse     0.016599\n",
      "Suspicious Person                 bad       0.263158\n",
      "                                  good      0.229299\n",
      "                                  worse     0.181818\n",
      "Violation of City/Town Ordinance  bad       0.048523\n",
      "                                  good      0.058065\n",
      "                                  worse     0.092784\n",
      "Warrant                           bad       0.500000\n",
      "                                  good      0.694915\n",
      "                                  worse     0.400000\n",
      "Name: arrest_made, dtype: float64\n"
     ]
    }
   ],
   "source": [
    "# Calculate the overall arrest rate\n",
    "print(ri_weather['arrest_made'].mean())\n",
    "\n",
    "# Calculate the arrest rate for each 'rating'\n",
    "print(ri_weather.groupby('rating')['arrest_made'].mean())\n",
    "\n",
    "# Calculate the arrest rate for each 'violation' and 'rating'\n",
    "print(ri_weather.groupby(['reason_for_stop','rating'])['arrest_made'].mean())"
   ]
  },
  {
   "cell_type": "code",
   "execution_count": null,
   "id": "uniform-heater",
   "metadata": {},
   "outputs": [],
   "source": []
  }
 ],
 "metadata": {
  "kernelspec": {
   "display_name": "Python 3",
   "language": "python",
   "name": "python3"
  },
  "language_info": {
   "codemirror_mode": {
    "name": "ipython",
    "version": 3
   },
   "file_extension": ".py",
   "mimetype": "text/x-python",
   "name": "python",
   "nbconvert_exporter": "python",
   "pygments_lexer": "ipython3",
   "version": "3.8.12"
  }
 },
 "nbformat": 4,
 "nbformat_minor": 5
}
