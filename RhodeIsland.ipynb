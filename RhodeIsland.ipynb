{
 "cells": [
  {
   "cell_type": "markdown",
   "id": "raising-obligation",
   "metadata": {},
   "source": [
    "# Traffic stops at Rhode Island\n",
    "\n",
    "## Table of contents\n",
    "1. [Introduction](#introduction)\n",
    "2. [Data cleaning](#cleaning)\n",
    "    1. [Removing missing data](#missing)\n",
    "    2. [Using proper datatypes](#converting)\n",
    "3. [Exploratory data analysis (EDA)](#eda)\n",
    "    1. [Reason for stop by gender](#reason_gender)\n",
    "    2. [Speeding outcomes by gender](#outcome_gender)\n",
    "    3. [Search rate](#search_rate)\n",
    "\n",
    "\n",
    "\n",
    "\n",
    "## Introduction <a name=\"introduction\"></a>\n",
    "\n",
    "This project uses data from [\"The Stanford open policing project\"](https://openpolicing.stanford.edu/) to analyse traffic stops by police officers in the Rhode Island State of the United States. After cleaning the data, several questions are answered by analysing it and by using visualisation tools. In particular, we are interested in analysing the impact of gender and race on the police behaviour. \n",
    "\n",
    "In addition, we combine this dataset with weather information from the [\"National Centers for Environmental Information\"](https://www.ncei.noaa.gov/) in order to understand how the weather conditions impact the police behaviour.\n",
    "\n"
   ]
  },
  {
   "cell_type": "code",
   "execution_count": 1,
   "id": "spoken-carnival",
   "metadata": {},
   "outputs": [],
   "source": [
    "import pandas as pd\n",
    "\n",
    "# Read input data and create a dataframe\n",
    "input_file = 'data/ri_statewide_2020_04_01.csv'\n",
    "\n",
    "ri = pd.read_csv(input_file, low_memory=False) #low_memory=False turns down a warning about some columns having mixed datatypes. This will be fixed later.\n",
    "\n"
   ]
  },
  {
   "cell_type": "markdown",
   "id": "stunning-quest",
   "metadata": {},
   "source": [
    "## Data cleaning <a name=\"cleaning\"></a>\n",
    "\n",
    "The first objective is to get the data ready to be analysed. We start by dropping columns with a large fraction of missing data as well as columns that have only 1 unique value. Rows with a significant fraction of missing data will be dropped as well. The acceptable thresholds for missing data will be decided after inspecting the dataset. \n",
    "\n",
    "Next, we look at the datatypes to check wether there is any column that would be more appropriate to be stored with a different dataype. For example, it is common that some of the columns that should be booleans or integers are stored as strings. This makes it easier to process the data in later steps. "
   ]
  },
  {
   "cell_type": "markdown",
   "id": "incorporated-manor",
   "metadata": {},
   "source": [
    "### Removing missing data <a name=\"missing\"></a>"
   ]
  },
  {
   "cell_type": "code",
   "execution_count": 2,
   "id": "manual-retirement",
   "metadata": {},
   "outputs": [
    {
     "name": "stdout",
     "output_type": "stream",
     "text": [
      "(509681, 31)\n"
     ]
    }
   ],
   "source": [
    "# Number of rows and columns\n",
    "print(ri.shape)"
   ]
  },
  {
   "cell_type": "code",
   "execution_count": 3,
   "id": "boxed-liverpool",
   "metadata": {},
   "outputs": [
    {
     "name": "stdout",
     "output_type": "stream",
     "text": [
      "raw_row_number            0.000000\n",
      "date                      0.001962\n",
      "time                      0.001962\n",
      "zone                      0.001962\n",
      "subject_race              5.704156\n",
      "subject_sex               5.708865\n",
      "department_id             0.001962\n",
      "type                      0.000000\n",
      "arrest_made               5.704156\n",
      "citation_issued           5.704156\n",
      "warning_issued            5.704156\n",
      "outcome                   7.032046\n",
      "contraband_found         96.515075\n",
      "contraband_drugs         96.863136\n",
      "contraband_weapons       97.685807\n",
      "contraband_alcohol       99.761223\n",
      "contraband_other         96.515075\n",
      "frisk_performed           0.001962\n",
      "search_conducted          0.000000\n",
      "search_basis             96.515075\n",
      "reason_for_search        96.515075\n",
      "reason_for_stop           5.704156\n",
      "vehicle_make             37.585078\n",
      "vehicle_model            54.856469\n",
      "raw_BasisForStop          5.704156\n",
      "raw_OperatorRace          5.704156\n",
      "raw_OperatorSex           5.704156\n",
      "raw_ResultOfStop          5.704156\n",
      "raw_SearchResultOne      96.515075\n",
      "raw_SearchResultTwo      99.839311\n",
      "raw_SearchResultThree    99.967038\n",
      "dtype: float64\n"
     ]
    }
   ],
   "source": [
    "# % of missing data in each column\n",
    "print(100*ri.isnull().sum()/len(ri.index))"
   ]
  },
  {
   "cell_type": "markdown",
   "id": "designing-oasis",
   "metadata": {},
   "source": [
    "Often, a DataFrame will contain columns that are not useful to your analysis. Such columns should be dropped from the DataFrame, to make it easier for you to focus on the remaining columns.\n",
    "\n",
    "We will drop columns with more than 90% of missing data as well as columns that have only 1 unique value."
   ]
  },
  {
   "cell_type": "code",
   "execution_count": 4,
   "id": "inclusive-miller",
   "metadata": {},
   "outputs": [
    {
     "name": "stdout",
     "output_type": "stream",
     "text": [
      "Dropping:  ['contraband_found', 'contraband_drugs', 'contraband_weapons', 'contraband_alcohol', 'contraband_other', 'search_basis', 'reason_for_search', 'raw_SearchResultOne', 'raw_SearchResultTwo', 'raw_SearchResultThree']\n"
     ]
    }
   ],
   "source": [
    "missing_data = 100*ri.isnull().sum()/len(ri.index)\n",
    "missing_90 = [index for index, value in missing_data.items() if value > 90 ]\n",
    "print(\"Dropping: \", missing_90)\n",
    "ri.drop(missing_90, axis='columns', inplace=True)"
   ]
  },
  {
   "cell_type": "code",
   "execution_count": 5,
   "id": "retired-cameroon",
   "metadata": {},
   "outputs": [
    {
     "name": "stdout",
     "output_type": "stream",
     "text": [
      "(509681, 21)\n"
     ]
    }
   ],
   "source": [
    "print(ri.shape)"
   ]
  },
  {
   "cell_type": "code",
   "execution_count": 6,
   "id": "confident-lightning",
   "metadata": {},
   "outputs": [
    {
     "name": "stdout",
     "output_type": "stream",
     "text": [
      "raw_row_number      False\n",
      "date                False\n",
      "time                False\n",
      "zone                False\n",
      "subject_race        False\n",
      "subject_sex         False\n",
      "department_id       False\n",
      "type                 True\n",
      "arrest_made         False\n",
      "citation_issued     False\n",
      "warning_issued      False\n",
      "outcome             False\n",
      "frisk_performed     False\n",
      "search_conducted    False\n",
      "reason_for_stop     False\n",
      "vehicle_make        False\n",
      "vehicle_model       False\n",
      "raw_BasisForStop    False\n",
      "raw_OperatorRace    False\n",
      "raw_OperatorSex     False\n",
      "raw_ResultOfStop    False\n",
      "dtype: bool\n"
     ]
    }
   ],
   "source": [
    "# Find % of unique values\n",
    "unique_data = ri.nunique()\n",
    "print(unique_data==1)"
   ]
  },
  {
   "cell_type": "code",
   "execution_count": 7,
   "id": "altered-prospect",
   "metadata": {},
   "outputs": [
    {
     "name": "stdout",
     "output_type": "stream",
     "text": [
      "0         vehicular\n",
      "1         vehicular\n",
      "2         vehicular\n",
      "3         vehicular\n",
      "4         vehicular\n",
      "            ...    \n",
      "509676    vehicular\n",
      "509677    vehicular\n",
      "509678    vehicular\n",
      "509679    vehicular\n",
      "509680    vehicular\n",
      "Name: type, Length: 509681, dtype: object\n"
     ]
    }
   ],
   "source": [
    "print(ri['type'])"
   ]
  },
  {
   "cell_type": "markdown",
   "id": "colonial-fundamental",
   "metadata": {},
   "source": [
    "The 'type' column has one unique value 'vehicular'. This doesn't add any new information, so we drop that column too."
   ]
  },
  {
   "cell_type": "code",
   "execution_count": 8,
   "id": "impressive-complement",
   "metadata": {},
   "outputs": [],
   "source": [
    "ri.drop(['type'], axis='columns', inplace=True)"
   ]
  },
  {
   "cell_type": "code",
   "execution_count": 9,
   "id": "pleased-sunglasses",
   "metadata": {},
   "outputs": [
    {
     "name": "stdout",
     "output_type": "stream",
     "text": [
      "(509681, 20)\n"
     ]
    }
   ],
   "source": [
    "print(ri.shape)"
   ]
  },
  {
   "cell_type": "markdown",
   "id": "technical-designation",
   "metadata": {},
   "source": [
    "Our current dataframe contains 20 columns. Let's also remove rows for which more than 10 columns are NaN."
   ]
  },
  {
   "cell_type": "code",
   "execution_count": 10,
   "id": "chief-tokyo",
   "metadata": {},
   "outputs": [
    {
     "name": "stdout",
     "output_type": "stream",
     "text": [
      "29073\n"
     ]
    }
   ],
   "source": [
    "missing_columns = ri.isnull().sum(axis=1)\n",
    "missing_10 = [index for index, value in missing_columns.items() if value > 10]\n",
    "print(len(missing_10))\n",
    "ri.drop(index=missing_10, inplace=True)"
   ]
  },
  {
   "cell_type": "markdown",
   "id": "stable-hunger",
   "metadata": {},
   "source": [
    "### Using proper data types <a name=\"converting\"></a>"
   ]
  },
  {
   "cell_type": "code",
   "execution_count": 11,
   "id": "standing-graphic",
   "metadata": {},
   "outputs": [
    {
     "data": {
      "text/plain": [
       "raw_row_number       int64\n",
       "date                object\n",
       "time                object\n",
       "zone                object\n",
       "subject_race        object\n",
       "subject_sex         object\n",
       "department_id       object\n",
       "arrest_made         object\n",
       "citation_issued     object\n",
       "warning_issued      object\n",
       "outcome             object\n",
       "frisk_performed     object\n",
       "search_conducted      bool\n",
       "reason_for_stop     object\n",
       "vehicle_make        object\n",
       "vehicle_model       object\n",
       "raw_BasisForStop    object\n",
       "raw_OperatorRace    object\n",
       "raw_OperatorSex     object\n",
       "raw_ResultOfStop    object\n",
       "dtype: object"
      ]
     },
     "execution_count": 11,
     "metadata": {},
     "output_type": "execute_result"
    }
   ],
   "source": [
    "# Look at the current datatypes\n",
    "ri.dtypes"
   ]
  },
  {
   "cell_type": "markdown",
   "id": "marine-privilege",
   "metadata": {},
   "source": [
    "Most of the columns have an <code>object</code> datatype, which means they are stored as string. Let's have a look at what type of values they contain to check wether another datatype would be more suitable."
   ]
  },
  {
   "cell_type": "code",
   "execution_count": 12,
   "id": "synthetic-medline",
   "metadata": {},
   "outputs": [
    {
     "name": "stdout",
     "output_type": "stream",
     "text": [
      "raw_row_number int64\n",
      "\t [     1      2      3 ... 509678 509679 509680]\n",
      "date object\n",
      "\t ['2005-11-22' '2005-10-01' '2005-09-11' ... '2015-12-06' '2015-12-24'\n",
      " '2015-12-25']\n",
      "time object\n",
      "\t ['11:15:00' '12:20:00' '12:30:00' ... '05:39:00' '04:58:00' '05:23:00']\n",
      "zone object\n",
      "\t ['X3' 'X4' 'K3' 'K2' 'K1' 'X1']\n",
      "subject_race object\n",
      "\t ['white' 'hispanic' 'black' 'other' 'asian/pacific islander']\n",
      "subject_sex object\n",
      "\t ['male' 'female' nan]\n",
      "department_id object\n",
      "\t ['200' '500' '300' '900' '600' '000' '202' '502' '203' '003' '004' '009'\n",
      " '001' '002' '006' '505' '409' '402' '204' '205' '405' '506' '403' '411'\n",
      " '303' 'MA' '406' '415' '301' '501' '503' '20' '410' 'OUT' '201' '408'\n",
      " 'K2' '304' '305' '508' '120' '413' '102' '407' '412' '416' '30' '509']\n",
      "arrest_made object\n",
      "\t [False True]\n",
      "citation_issued object\n",
      "\t [True False]\n",
      "warning_issued object\n",
      "\t [False True]\n",
      "outcome object\n",
      "\t ['citation' nan 'arrest' 'warning']\n",
      "frisk_performed object\n",
      "\t [False True]\n",
      "search_conducted bool\n",
      "\t [False  True]\n",
      "reason_for_stop object\n",
      "\t ['Speeding' 'Other Traffic Violation' 'Equipment/Inspection Violation'\n",
      " 'Motorist Assist/Courtesy' 'Registration Violation' 'Call for Service'\n",
      " 'Violation of City/Town Ordinance' 'Special Detail/Directed Patrol' 'APB'\n",
      " 'Warrant' 'Suspicious Person' 'Seatbelt Violation']\n",
      "vehicle_make object\n",
      "\t [nan 'TOYT' 'LINC' 'AUDI' 'PONT' 'FORD' 'ISU' 'SAA' 'NISS' 'GMC' 'HYUN'\n",
      " 'JEEP' 'MAZD' 'JAGU' 'CHEV' 'VOLK' 'ACUR' 'HOND' 'VOLV' 'BMW' 'STRN'\n",
      " 'DODG' 'MITS' 'BUIC' 'PLYM' 'OLDS' 'KIA' 'MERC' 'CHRY' 'GEO' 'INFI'\n",
      " 'SUZI' 'SUBA' 'LEXU' 'SAT' 'CADI' 'OTHR' 'FREI' 'MERZ' 'LEXS' 'DAEW'\n",
      " 'YAMA' 'LNDR' 'EGIL' 'LAND' 'KENW' 'MACK' 'EAGL' 'SATU' 'INTL' 'CHEC'\n",
      " 'TRIU' 'AMGN' 'HD' 'ISUZ' 'AMER' 'PORS' 'FRHT' 'COOP' 'KW' 'STLG' 'PTRB'\n",
      " 'TOYO' 'VNTC' 'LOTU' 'MG' 'KAWK' 'MASE' 'DATS' 'FERR' 'UK' 'ALFA' 'WHIT'\n",
      " 'ROL' 'FRUE' 'TRIM' 'BENT' 'RENA' 'EC' 'SHEB' 'INTE' 'FIAT' 'OPEL' 'STU'\n",
      " 'CP' '4T' 'VN' '4D' 'PC' 'PEUG' 'C300' 'SE' 'RAMB' 'AVTI' 'SU' 'MERK'\n",
      " 'MB']\n",
      "vehicle_model object\n",
      "\t [nan 'HIGHLA' 'TOWN CAR' ... 'SRT10' 'TL COUPE' 'OTS']\n",
      "raw_BasisForStop object\n",
      "\t ['SP' 'OT' 'EQ' 'MO' 'RV' 'CS' 'VO' 'SD' 'AP' 'WA' 'SU' 'SB']\n",
      "raw_OperatorRace object\n",
      "\t ['W' 'H' 'B' 'O' 'I' 'N' 'L']\n",
      "raw_OperatorSex object\n",
      "\t ['M' 'F' 'N' 'U']\n",
      "raw_ResultOfStop object\n",
      "\t ['M' 'N' 'D' 'P' 'W' 'A']\n"
     ]
    }
   ],
   "source": [
    "for col in ri:\n",
    "    print(col, ri[col].dtype)\n",
    "    print(\"\\t\",ri[col].unique())"
   ]
  },
  {
   "cell_type": "markdown",
   "id": "relative-champion",
   "metadata": {},
   "source": [
    "By inspecting the unique types of each column it seems reasonable that the following columns, which have an object type (which usually means a string) should be changed to:\n",
    "\n",
    "* date: object -> datetime\n",
    "* time: object -> datetime\n",
    "* zone: object -> categorical (6 different values)\n",
    "* subject_race: object -> categorical (5 different values)\n",
    "* subject_sex: object -> categorical/boolean\n",
    "* arrest_made: object -> boolean\n",
    "* citation_issued: object -> boolean\n",
    "* warning_issued: object -> boolean\n",
    "* outcome: object -> categorical (3 different values)\n",
    "* frisk_performed: object -> boolean\n",
    "* reason_for_stop: object -> categorical (12 different values)\n",
    "* raw_OperatorRace: object -> categorical (7 different values)\n",
    "* raw_OperatorSex: object -> categorical (4 different values)\n",
    "* raw_ResultOfStop: object -> categorical (6 different values)\n"
   ]
  },
  {
   "cell_type": "code",
   "execution_count": 13,
   "id": "portuguese-romania",
   "metadata": {},
   "outputs": [],
   "source": [
    "# Objetc to bool:\n",
    "object_to_bool = ['arrest_made','citation_issued','warning_issued','frisk_performed']\n",
    "ri[object_to_bool] = ri[object_to_bool].astype(bool)"
   ]
  },
  {
   "cell_type": "code",
   "execution_count": 14,
   "id": "material-filename",
   "metadata": {},
   "outputs": [],
   "source": [
    "# date and time to datetime. Make it also the index!\n",
    "combined = ri['date'].str.cat(ri['time'], sep=' ')\n",
    "ri['datetime'] = pd.to_datetime(combined)\n",
    "ri.set_index('datetime', inplace=True)\n",
    "ri.drop(['time'], axis='columns', inplace=True)\n",
    "# We don't drop the date column since it will be useful later when we merge it with the weather dataset."
   ]
  },
  {
   "cell_type": "code",
   "execution_count": 15,
   "id": "residential-cholesterol",
   "metadata": {},
   "outputs": [],
   "source": [
    "# Object to category\n",
    "object_to_category = ['zone','subject_race','subject_sex','outcome','reason_for_stop','raw_OperatorRace','raw_OperatorSex','raw_ResultOfStop']\n",
    "ri[object_to_category] = ri[object_to_category].astype(\"category\")\n"
   ]
  },
  {
   "cell_type": "code",
   "execution_count": 16,
   "id": "tender-lesbian",
   "metadata": {},
   "outputs": [
    {
     "name": "stdout",
     "output_type": "stream",
     "text": [
      "raw_row_number         int64\n",
      "date                  object\n",
      "zone                category\n",
      "subject_race        category\n",
      "subject_sex         category\n",
      "department_id         object\n",
      "arrest_made             bool\n",
      "citation_issued         bool\n",
      "warning_issued          bool\n",
      "outcome             category\n",
      "frisk_performed         bool\n",
      "search_conducted        bool\n",
      "reason_for_stop     category\n",
      "vehicle_make          object\n",
      "vehicle_model         object\n",
      "raw_BasisForStop      object\n",
      "raw_OperatorRace    category\n",
      "raw_OperatorSex     category\n",
      "raw_ResultOfStop    category\n",
      "dtype: object\n"
     ]
    }
   ],
   "source": [
    "# Check the new datatype\n",
    "print(ri.dtypes)"
   ]
  },
  {
   "cell_type": "markdown",
   "id": "christian-spray",
   "metadata": {},
   "source": [
    "## Exploratory data analysis (EDA) <a name=\"eda\"></a>\n",
    "\n",
    "This is where we actually look at the data to understand its main characteristics. For that we will use <code>pandas</code> and the visualisation libraries <code>matplotlib</code> and <code>seaborn</code>."
   ]
  },
  {
   "cell_type": "markdown",
   "id": "valued-acting",
   "metadata": {},
   "source": [
    "### Comparing reason for stop by gender<a name=\"reason_gender\"></a>"
   ]
  },
  {
   "cell_type": "code",
   "execution_count": 17,
   "id": "rational-tribune",
   "metadata": {
    "scrolled": false
   },
   "outputs": [
    {
     "data": {
      "image/png": "[encoded data removed]",
      "text/plain": [
       "<Figure size 576x288 with 2 Axes>"
      ]
     },
     "metadata": {
      "needs_background": "light"
     },
     "output_type": "display_data"
    }
   ],
   "source": [
    "import seaborn as sns\n",
    "import matplotlib.pyplot as plt\n",
    "\n",
    "#sns.set_palette(\"PuRd\")\n",
    "\n",
    "# Visualise total counts\n",
    "g = sns.catplot(y=\"reason_for_stop\", data=ri, kind=\"count\", col=\"subject_sex\", height=4)\n",
    "g.fig.suptitle(\"Reason for stop split by driver gender\",y=1.03)\n",
    "g.set_titles(\"{col_name}\")\n",
    "g.set(xlabel=\"Count\", ylabel=\"Reason for stop\")\n",
    "plt.show()\n",
    "g.savefig(\"reason_stop_gender.png\")"
   ]
  },
  {
   "cell_type": "markdown",
   "id": "focal-opinion",
   "metadata": {},
   "source": [
    "First thing we notice is that men get stoped more often than women. We would need to compare these number with the total number of man and women driving in order to draw any conclusion in this. It is also clear that by far, the most common reason for stop is speeding. Next step is to look at the percentages to see more clearly if reasons follow the same distributions for men and women."
   ]
  },
  {
   "cell_type": "code",
   "execution_count": 30,
   "id": "hollywood-childhood",
   "metadata": {},
   "outputs": [
    {
     "name": "stdout",
     "output_type": "stream",
     "text": [
      "Speeding                            0.657308\n",
      "Other Traffic Violation             0.136581\n",
      "Equipment/Inspection Violation      0.107055\n",
      "Registration Violation              0.043077\n",
      "Seatbelt Violation                  0.027071\n",
      "Call for Service                    0.018057\n",
      "Special Detail/Directed Patrol      0.005071\n",
      "Motorist Assist/Courtesy            0.002532\n",
      "Violation of City/Town Ordinance    0.001647\n",
      "APB                                 0.000831\n",
      "Suspicious Person                   0.000564\n",
      "Warrant                             0.000206\n",
      "Name: reason_for_stop, dtype: float64\n",
      "Speeding                            0.522364\n",
      "Other Traffic Violation             0.206948\n",
      "Equipment/Inspection Violation      0.135102\n",
      "Registration Violation              0.040581\n",
      "Special Detail/Directed Patrol      0.037136\n",
      "Seatbelt Violation                  0.036555\n",
      "Call for Service                    0.014987\n",
      "Violation of City/Town Ordinance    0.002347\n",
      "Motorist Assist/Courtesy            0.001880\n",
      "APB                                 0.001076\n",
      "Suspicious Person                   0.000767\n",
      "Warrant                             0.000258\n",
      "Name: reason_for_stop, dtype: float64\n"
     ]
    },
    {
     "data": {
      "image/png": "[encoded data removed]",
      "text/plain": [
       "<Figure size 492.25x360 with 1 Axes>"
      ]
     },
     "metadata": {
      "needs_background": "light"
     },
     "output_type": "display_data"
    }
   ],
   "source": [
    "# Create a DataFrame of female drivers\n",
    "female = ri[ri['subject_sex']=='female']\n",
    "\n",
    "# Create a DataFrame of male drivers\n",
    "male = ri[ri['subject_sex']=='male']\n",
    "\n",
    "# Compute the arrests by female drivers (as proportions)\n",
    "print(female['reason_for_stop'].value_counts(normalize=True))\n",
    "\n",
    "# Compute the arrests by male drivers (as proportions)\n",
    "print(male['reason_for_stop'].value_counts(normalize=True))\n",
    "\n",
    "\n",
    "reason_female_df = female['reason_for_stop'].value_counts(normalize=True).rename_axis('reason_for_stop').reset_index(name='percentage')\n",
    "reason_male_df = male['reason_for_stop'].value_counts(normalize=True).rename_axis('reason_for_stop').reset_index(name='percentage')\n",
    "\n",
    "gender_reason = reason_female_df.merge(reason_male_df, suffixes=('_female','_male'), on='reason_for_stop')\n",
    "\n",
    "# Create a latex table and save it in a file\n",
    "gender_reason_table = gender_reason.to_latex(float_format=\"%.3f\", index=False, header=[\"Reason for stop\",\"Female\",\"Male\"])\n",
    "with open(\"tables/gender_reason_table.txt\", \"w\") as text_file:\n",
    "    text_file.write(gender_reason_table)\n",
    "\n",
    "\n",
    "gender_reason = pd.melt(gender_reason, id_vars=\"reason_for_stop\", var_name=\"sex\", value_name=\"percentage\")\n",
    "\n",
    "# Visualise the results\n",
    "#category_order = [\"citation\",\"warning\",\"arrest\"]\n",
    "fig_reason = sns.catplot(x='reason_for_stop', y='percentage', hue='sex', data=gender_reason, kind='bar')\n",
    "fig_reason.fig.suptitle(\"Percentage of reason for stop by gender\",y=1.03)\n",
    "fig_reason.set(xlabel=\"Reason for stop\", ylabel=\"Percentage\")\n",
    "plt.xticks(rotation=90)\n",
    "plt.show()\n",
    "fig_reason.savefig(\"figures/reason_gender.png\")\n"
   ]
  },
  {
   "cell_type": "markdown",
   "id": "national-rapid",
   "metadata": {},
   "source": [
    "We see that, while in both cases speeding is the most common reason for stop, in the case of men, the difference with respect to the other reasons is not as big as in the case of women. "
   ]
  },
  {
   "cell_type": "markdown",
   "id": "acquired-description",
   "metadata": {},
   "source": [
    "### Speeding outcomes by gender<a name=\"outcome_gender\"></a>"
   ]
  },
  {
   "cell_type": "code",
   "execution_count": 31,
   "id": "genuine-scoop",
   "metadata": {},
   "outputs": [
    {
     "name": "stdout",
     "output_type": "stream",
     "text": [
      "citation    0.954609\n",
      "warning     0.039059\n",
      "arrest      0.006332\n",
      "Name: outcome, dtype: float64\n",
      "citation    0.946763\n",
      "warning     0.036167\n",
      "arrest      0.017070\n",
      "Name: outcome, dtype: float64\n"
     ]
    },
    {
     "data": {
      "image/png": "[encoded data removed]",
      "text/plain": [
       "<Figure size 492.25x360 with 1 Axes>"
      ]
     },
     "metadata": {
      "needs_background": "light"
     },
     "output_type": "display_data"
    }
   ],
   "source": [
    "# Create a DataFrame of female drivers stopped for speeding\n",
    "female_and_speeding = ri[(ri['subject_sex']=='female') & (ri['reason_for_stop']=='Speeding')]\n",
    "\n",
    "# Create a DataFrame of male drivers stopped for speeding\n",
    "male_and_speeding = ri[(ri['subject_sex']=='male') & (ri['reason_for_stop']=='Speeding')]\n",
    "\n",
    "# Compute the stop outcomes for female drivers (as proportions)\n",
    "print(female_and_speeding['outcome'].value_counts(normalize=True))\n",
    "\n",
    "# Compute the stop outcomes for male drivers (as proportions)\n",
    "print(male_and_speeding['outcome'].value_counts(normalize=True))\n",
    "\n",
    "# Create a new dataframe merging both\n",
    "female_and_speeding_df = female_and_speeding['outcome'].value_counts(normalize=True).rename_axis('outcome').reset_index(name='percentage')\n",
    "male_and_speeding_df = male_and_speeding['outcome'].value_counts(normalize=True).rename_axis('outcome').reset_index(name='percentage')\n",
    "\n",
    "gender_speeding = female_and_speeding_df.merge(male_and_speeding_df, suffixes=('_female','_male'), on='outcome')\n",
    "\n",
    "# Create a latex table and save it in a file\n",
    "speeding_outcome_gender_table = gender_speeding.to_latex(float_format=\"%.3f\", index=False, header=[\"Outcome\",\"Female\",\"Male\"])\n",
    "with open(\"tables/speeding_outcome_gender_table.txt\", \"w\") as text_file:\n",
    "    text_file.write(speeding_outcome_gender_table)\n",
    "\n",
    "gender_speeding = pd.melt(gender_speeding, id_vars=\"outcome\", var_name=\"sex\", value_name=\"percentage\")\n",
    "\n",
    "# Visualise the results\n",
    "category_order = [\"citation\",\"warning\",\"arrest\"]\n",
    "fig_outcome = sns.catplot(x='outcome', y='percentage', hue='sex', data=gender_speeding, kind='bar', order=category_order)\n",
    "fig_outcome.fig.suptitle(\"Outcome of stop for speeding by gender\",y=1.03)\n",
    "fig_outcome.set(xlabel=\"Outcome\", ylabel=\"Percentage\")\n",
    "plt.show()\n",
    "fig_outcome.savefig(\"figures/speeding_outcome_gender.png\")\n",
    "\n"
   ]
  },
  {
   "cell_type": "markdown",
   "id": "literary-humor",
   "metadata": {},
   "source": [
    "### Search rate<a name=\"search_rate\"></a>"
   ]
  },
  {
   "cell_type": "code",
   "execution_count": null,
   "id": "little-depth",
   "metadata": {},
   "outputs": [],
   "source": [
    "# Check the data type of 'search_conducted'\n",
    "print(ri.search_conducted.dtype)\n",
    "\n",
    "# Calculate the search rate by counting the values\n",
    "print(ri.search_conducted.value_counts(normalize=True))\n",
    "\n",
    "# Calculate the search rate by taking the mean\n",
    "print(ri.search_conducted.mean())"
   ]
  },
  {
   "cell_type": "code",
   "execution_count": null,
   "id": "least-burning",
   "metadata": {},
   "outputs": [],
   "source": [
    "# Calculate the search rate for female drivers\n",
    "print(ri[ri['subject_sex']=='female'].search_conducted.mean())\n",
    "\n",
    "# Calculate the search rate for male drivers\n",
    "print(ri[ri['subject_sex']=='male'].search_conducted.mean())\n",
    "\n",
    "# Calculate the search rate for both groups simultaneously\n",
    "print(ri.groupby('subject_sex').search_conducted.mean())"
   ]
  },
  {
   "cell_type": "markdown",
   "id": "powerful-advancement",
   "metadata": {},
   "source": [
    "## Adding a second factor to the analysis"
   ]
  },
  {
   "cell_type": "code",
   "execution_count": null,
   "id": "detailed-personal",
   "metadata": {},
   "outputs": [],
   "source": [
    "# Calculate the search rate for each combination of gender and violation\n",
    "print(ri.groupby(['reason_for_stop','subject_sex']).search_conducted.mean())"
   ]
  },
  {
   "cell_type": "code",
   "execution_count": null,
   "id": "posted-recorder",
   "metadata": {},
   "outputs": [],
   "source": [
    "#TO DO\n",
    "import matplotlib.pyplot as plt\n",
    "import seaborn as sns\n",
    "\n",
    "sns.countplot(x='search_conducted', data=ri)\n",
    "plt.show()"
   ]
  },
  {
   "cell_type": "markdown",
   "id": "compliant-suicide",
   "metadata": {},
   "source": [
    "## Arrest per daytime"
   ]
  },
  {
   "cell_type": "code",
   "execution_count": null,
   "id": "moral-burning",
   "metadata": {},
   "outputs": [],
   "source": [
    "print(ri.columns)\n",
    "\n",
    "# Calculate the overall arrest rate\n",
    "print(ri['arrest_made'].mean())\n",
    "\n",
    "# Calculate the hourly arrest rate\n",
    "print(ri.groupby(ri.index.hour)['arrest_made'].mean())\n",
    "\n",
    "# Save the hourly arrest rate\n",
    "hourly_arrest_rate = ri.groupby(ri.index.hour)['arrest_made'].mean()"
   ]
  },
  {
   "cell_type": "code",
   "execution_count": null,
   "id": "alien-burst",
   "metadata": {},
   "outputs": [],
   "source": [
    "# Import matplotlib.pyplot as plt\n",
    "import matplotlib.pyplot as plt\n",
    "\n",
    "# Create a line plot of 'hourly_arrest_rate'\n",
    "hourly_arrest_rate.plot()\n",
    "\n",
    "# Add the xlabel, ylabel, and title\n",
    "plt.xlabel('Hour')\n",
    "plt.ylabel('Arrest Rate')\n",
    "plt.title('Arrest Rate by Time of Day')\n",
    "\n",
    "# Display the plot\n",
    "plt.show()"
   ]
  },
  {
   "cell_type": "markdown",
   "id": "decreased-imperial",
   "metadata": {},
   "source": [
    "## Are searches on the rise?"
   ]
  },
  {
   "cell_type": "code",
   "execution_count": null,
   "id": "adapted-range",
   "metadata": {},
   "outputs": [],
   "source": [
    "# Calculate the annual rate of performed searches\n",
    "print(ri['search_conducted'].resample('A').mean())\n",
    "\n",
    "# Save the annual rate of performed searches\n",
    "annual_search_rate = ri['search_conducted'].resample('A').mean()\n",
    "\n",
    "# Create a line plot of 'annual_drug_rate'\n",
    "annual_search_rate.plot()\n",
    "\n",
    "# Display the plot\n",
    "plt.show()"
   ]
  },
  {
   "cell_type": "markdown",
   "id": "cleared-snake",
   "metadata": {},
   "source": [
    "## Does the search rate decrease translate into a arrest decrease as well?"
   ]
  },
  {
   "cell_type": "code",
   "execution_count": null,
   "id": "purple-graduation",
   "metadata": {},
   "outputs": [],
   "source": [
    "# Calculate and save the annual arrest rate\n",
    "annual_arrest_rate = ri['arrest_made'].resample('A').mean()\n",
    "\n",
    "# Concatenate 'annual_search_rate' and 'annual_arrest_rate'\n",
    "annual = pd.concat([annual_search_rate,annual_arrest_rate], axis='columns')\n",
    "\n",
    "# Create subplots from 'annual'\n",
    "annual.plot(subplots=True)\n",
    "\n",
    "# Display the subplots\n",
    "plt.show()"
   ]
  },
  {
   "cell_type": "markdown",
   "id": "alone-quilt",
   "metadata": {},
   "source": [
    "## What violations are caught in each district?"
   ]
  },
  {
   "cell_type": "code",
   "execution_count": null,
   "id": "through-swaziland",
   "metadata": {},
   "outputs": [],
   "source": [
    "# Create a frequency table of districts and violations\n",
    "print(pd.crosstab(ri['zone'], ri['reason_for_stop']))\n",
    "\n",
    "# Save the frequency table as 'all_zones'\n",
    "all_zones = pd.crosstab(ri['zone'], ri['reason_for_stop'])\n",
    "\n",
    "# Select rows 'Zone K1' through 'Zone K3'\n",
    "print(all_zones.loc['K1':'K3'])\n",
    "\n",
    "# Save the smaller table as 'k_zones'\n",
    "k_zones = all_zones.loc['K1':'K3']"
   ]
  },
  {
   "cell_type": "code",
   "execution_count": null,
   "id": "parallel-miller",
   "metadata": {},
   "outputs": [],
   "source": [
    "# Create a bar plot of 'all_zones'\n",
    "all_zones.plot(kind='bar')\n",
    "\n",
    "# Display the plot\n",
    "plt.show()"
   ]
  },
  {
   "cell_type": "code",
   "execution_count": null,
   "id": "mature-arcade",
   "metadata": {},
   "outputs": [],
   "source": [
    "# Create a stacked bar plot of 'all_zones'\n",
    "all_zones.plot(kind='bar', stacked=True)\n",
    "\n",
    "# Display the plot\n",
    "plt.show()"
   ]
  },
  {
   "cell_type": "markdown",
   "id": "available-chance",
   "metadata": {},
   "source": [
    "# Adding weather data\n",
    "\n",
    "We now use weather daata from a different dataset to understand if weather conditions affect the police stops. For that, we use weather data from the National Center for Environmental Information collected at the Rhode Island weather station, USW00014765 (https://www.ncei.noaa.gov/) and (https://www1.ncdc.noaa.gov/pub/data/ghcn/daily/by_station/)."
   ]
  },
  {
   "cell_type": "code",
   "execution_count": null,
   "id": "distant-medication",
   "metadata": {},
   "outputs": [],
   "source": [
    "weather_file = 'data/USW00014765.csv'\n",
    "\n",
    "wd = pd.read_csv(weather_file, usecols=[1,2,3], names=['date', 'metric','value'])\n",
    "\n",
    "print(wd.head())"
   ]
  },
  {
   "cell_type": "code",
   "execution_count": null,
   "id": "sublime-ethnic",
   "metadata": {},
   "outputs": [],
   "source": [
    "weather=wd.pivot(index='date', columns='metric', values='value')\n",
    "\n",
    "# Convert index to datetime format and make it the index\n",
    "#weather['date'] = pd.to_datetime(weather.index)"
   ]
  },
  {
   "cell_type": "code",
   "execution_count": null,
   "id": "beautiful-present",
   "metadata": {},
   "outputs": [],
   "source": [
    "ws = weather.loc[20050101:20181231]"
   ]
  },
  {
   "cell_type": "code",
   "execution_count": null,
   "id": "announced-bulletin",
   "metadata": {},
   "outputs": [],
   "source": [
    "def convert_tenths_to_celsius(tf):\n",
    "    tf = tf/10.0\n",
    "    return tf\n",
    "\n",
    "ws[['TMIN','TAVG','TMAX']] = ws[['TMIN','TAVG','TMAX']].apply(convert_tenths_to_celsius)"
   ]
  },
  {
   "cell_type": "code",
   "execution_count": null,
   "id": "characteristic-disposal",
   "metadata": {},
   "outputs": [],
   "source": [
    "# Inspect the temperature columns \n",
    "# Describe the temperature columns\n",
    "print(ws[['TMIN','TAVG','TMAX']].describe())\n",
    "\n",
    "# Create a box plot of the temperature columns\n",
    "ws[['TMIN','TAVG','TMAX']].plot(kind='box')\n",
    "\n",
    "# Display the plot\n",
    "plt.show()"
   ]
  },
  {
   "cell_type": "code",
   "execution_count": null,
   "id": "indie-mattress",
   "metadata": {},
   "outputs": [],
   "source": [
    "# Create a 'TDIFF' column that represents temperature difference\n",
    "ws['TDIFF'] = ws['TMAX']-ws['TMIN']\n",
    "\n",
    "# Describe the 'TDIFF' column\n",
    "print(ws['TDIFF'].describe())\n",
    "\n",
    "# Create a histogram with 20 bins to visualize 'TDIFF'\n",
    "ws['TDIFF'].plot(kind='hist', bins=20)\n",
    "\n",
    "# Display the plot\n",
    "plt.show()"
   ]
  },
  {
   "cell_type": "code",
   "execution_count": null,
   "id": "brown-novel",
   "metadata": {},
   "outputs": [],
   "source": [
    "print(ws['WT01'].unique())"
   ]
  },
  {
   "cell_type": "markdown",
   "id": "seeing-anthony",
   "metadata": {},
   "source": [
    "### Counting bad weather conditions\n",
    "\n",
    "The weather DataFrame contains 20 columns that start with 'WT', each of which represents a bad weather condition. For example:\n",
    "\n",
    "* WT05 indicates \"Hail\"\n",
    "* WT11 indicates \"High or damaging winds\"\n",
    "* WT17 indicates \"Freezing rain\"\n",
    "For every row in the dataset, each WT column contains either a 1 (meaning the condition was present that day) or NaN (meaning the condition was not present).\n",
    "\n",
    "In this exercise, you'll quantify \"how bad\" the weather was each day by counting the number of 1 values in each row."
   ]
  },
  {
   "cell_type": "code",
   "execution_count": null,
   "id": "liberal-friday",
   "metadata": {},
   "outputs": [],
   "source": [
    "# Copy 'WT01' through 'WT22' to a new DataFrame\n",
    "WT = ws.loc[:,'WT01':'WT22']\n",
    "\n",
    "# Calculate the sum of each row in 'WT'\n",
    "ws['bad_conditions'] = WT.sum(axis='columns')\n",
    "\n",
    "# Replace missing values in 'bad_conditions' with '0'\n",
    "ws['bad_conditions'] = ws.bad_conditions.fillna(0).astype('int')\n",
    "\n",
    "# Create a histogram to visualize 'bad_conditions'\n",
    "ws['bad_conditions'].plot(kind='hist')\n",
    "\n",
    "# Display the plot\n",
    "plt.show()"
   ]
  },
  {
   "cell_type": "markdown",
   "id": "monetary-programming",
   "metadata": {},
   "source": [
    "### Rating the weather conditions\n",
    "In the previous exercise, you counted the number of bad weather conditions each day. In this exercise, you'll use the counts to create a rating system for the weather.\n",
    "\n",
    "The counts range from 0 to 9, and should be converted to ratings as follows:\n",
    "\n",
    "* Convert 0 to 'good'\n",
    "* Convert 1 through 4 to 'bad'\n",
    "* Convert 5 through 9 to 'worse'"
   ]
  },
  {
   "cell_type": "code",
   "execution_count": null,
   "id": "temporal-knock",
   "metadata": {},
   "outputs": [],
   "source": [
    "# Count the unique values in 'bad_conditions' and sort the index\n",
    "print(ws.bad_conditions.value_counts().sort_index())\n",
    "\n",
    "# Create a dictionary that maps integers to strings\n",
    "mapping = {0:'good', 1:'bad', 2:'bad', 3:'bad',4:'bad',5:'worse',6:'worse',7:'worse',8:'worse',9:'worse'}\n",
    "\n",
    "# Convert the 'bad_conditions' integers to strings using the 'mapping'\n",
    "ws['rating'] = ws.bad_conditions.map(mapping)\n",
    "\n",
    "# Count the unique values in 'rating'\n",
    "print(ws['rating'].value_counts())"
   ]
  },
  {
   "cell_type": "code",
   "execution_count": null,
   "id": "agricultural-active",
   "metadata": {},
   "outputs": [],
   "source": [
    "# Create a list of weather ratings in logical order\n",
    "cats = ['good','bad','worse']\n",
    "\n",
    "# Change the data type of 'rating' to category\n",
    "cat_type = pd.Categorical(ws['rating'], categories=cats, ordered=True)\n",
    "\n",
    "# Examine the head of 'rating'\n",
    "print(ws['rating'].head())"
   ]
  },
  {
   "cell_type": "markdown",
   "id": "deadly-detective",
   "metadata": {},
   "source": [
    "## Preparing the two dataframes to be merged"
   ]
  },
  {
   "cell_type": "code",
   "execution_count": null,
   "id": "brave-writer",
   "metadata": {},
   "outputs": [],
   "source": [
    "# Reset the index of 'ri' and 'ws'\n",
    "ri.reset_index(inplace=True)\n",
    "ws.reset_index(inplace=True)\n",
    "\n",
    "# Examine the head of 'ri'\n",
    "print(ri.head())\n",
    "\n",
    "# Create a DataFrame from the 'DATE' and 'rating' columns\n",
    "weather_rating = ws[['date','rating']]\n",
    "\n",
    "# Examine the head of 'weather_rating'\n",
    "print(weather_rating.head())"
   ]
  },
  {
   "cell_type": "code",
   "execution_count": null,
   "id": "suitable-myanmar",
   "metadata": {},
   "outputs": [],
   "source": [
    "ri['date'] = pd.to_datetime(ri['date'])\n",
    "weather_rating['date'] = pd.to_datetime(weather_rating['date'], format='%Y%m%d', errors='ignore')"
   ]
  },
  {
   "cell_type": "code",
   "execution_count": null,
   "id": "touched-introduction",
   "metadata": {},
   "outputs": [],
   "source": [
    "print(weather_rating.date)"
   ]
  },
  {
   "cell_type": "code",
   "execution_count": null,
   "id": "resident-constant",
   "metadata": {},
   "outputs": [],
   "source": [
    "# Examine the shape of 'ri'\n",
    "print(ri.shape)\n",
    "\n",
    "# Merge 'ri' and 'weather_rating' using a left join\n",
    "ri_weather = pd.merge(left=ri, right=weather_rating, on='date', how='left')\n",
    "\n",
    "# Examine the shape of 'ri_weather'\n",
    "print(ri_weather.shape)\n",
    "\n",
    "# Set 'stop_datetime' as the index of 'ri_weather'\n",
    "ri_weather.set_index('date', inplace=True)"
   ]
  },
  {
   "cell_type": "code",
   "execution_count": null,
   "id": "completed-indonesian",
   "metadata": {},
   "outputs": [],
   "source": [
    "print(ri_weather.head())"
   ]
  },
  {
   "cell_type": "markdown",
   "id": "charitable-savings",
   "metadata": {},
   "source": [
    "## Comparing arrest rates by weather rating\n",
    "Do police officers arrest drivers more often when the weather is bad? Find out below!\n",
    "\n",
    "* First, you'll calculate the overall arrest rate.\n",
    "* Then, you'll calculate the arrest rate for each of the weather ratings you previously assigned.\n",
    "* Finally, you'll add violation type as a second factor in the analysis, to see if that accounts for any differences in the arrest rate.\n",
    "Since you previously defined a logical order for the weather categories, good < bad < worse, they will be sorted that way in the results."
   ]
  },
  {
   "cell_type": "code",
   "execution_count": null,
   "id": "plain-algeria",
   "metadata": {},
   "outputs": [],
   "source": [
    "# Calculate the overall arrest rate\n",
    "print(ri_weather['arrest_made'].mean())\n",
    "\n",
    "# Calculate the arrest rate for each 'rating'\n",
    "print(ri_weather.groupby('rating')['arrest_made'].mean())\n",
    "\n",
    "# Calculate the arrest rate for each 'violation' and 'rating'\n",
    "print(ri_weather.groupby(['reason_for_stop','rating'])['arrest_made'].mean())"
   ]
  },
  {
   "cell_type": "code",
   "execution_count": null,
   "id": "uniform-heater",
   "metadata": {},
   "outputs": [],
   "source": []
  }
 ],
 "metadata": {
  "kernelspec": {
   "display_name": "Python 3",
   "language": "python",
   "name": "python3"
  },
  "language_info": {
   "codemirror_mode": {
    "name": "ipython",
    "version": 3
   },
   "file_extension": ".py",
   "mimetype": "text/x-python",
   "name": "python",
   "nbconvert_exporter": "python",
   "pygments_lexer": "ipython3",
   "version": "3.8.12"
  }
 },
 "nbformat": 4,
 "nbformat_minor": 5
}
